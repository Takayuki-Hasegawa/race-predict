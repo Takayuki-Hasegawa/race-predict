{
 "cells": [
  {
   "cell_type": "code",
   "execution_count": 1,
   "metadata": {},
   "outputs": [],
   "source": [
    "import numpy as np\n",
    "import pandas as pd\n",
    "#最大表示列数の指定（ここでは50列を指定）\n",
    "pd.set_option('display.max_columns', 50)"
   ]
  },
  {
   "cell_type": "code",
   "execution_count": 2,
   "metadata": {},
   "outputs": [],
   "source": [
    "race_df = pd.read_csv(\"./csv/race-2008.csv\", sep=\",\")\n",
    "horse_df = pd.read_csv(\"./csv/horse-2008.csv\", sep=\",\")\n",
    "for year in range(2009, 2020):\n",
    "    race_tmp_df = pd.read_csv(\"./csv/race-\"+str(year)+\".csv\", sep=\",\")\n",
    "    horse_tmp_df = pd.read_csv(\"./csv/horse-\"+str(year)+\".csv\", sep=\",\")\n",
    "    race_df = pd.concat([race_df, race_tmp_df], axis=0)\n",
    "    horse_df = pd.concat([horse_df, horse_tmp_df], axis=0)"
   ]
  },
  {
   "cell_type": "markdown",
   "metadata": {},
   "source": [
    "## 元データの確認"
   ]
  },
  {
   "cell_type": "code",
   "execution_count": 3,
   "metadata": {},
   "outputs": [
    {
     "name": "stdout",
     "output_type": "stream",
     "text": [
      "True\n",
      "(3042, 28)\n"
     ]
    },
    {
     "data": {
      "text/html": [
       "<div>\n",
       "<style scoped>\n",
       "    .dataframe tbody tr th:only-of-type {\n",
       "        vertical-align: middle;\n",
       "    }\n",
       "\n",
       "    .dataframe tbody tr th {\n",
       "        vertical-align: top;\n",
       "    }\n",
       "\n",
       "    .dataframe thead th {\n",
       "        text-align: right;\n",
       "    }\n",
       "</style>\n",
       "<table border=\"1\" class=\"dataframe\">\n",
       "  <thead>\n",
       "    <tr style=\"text-align: right;\">\n",
       "      <th></th>\n",
       "      <th>race_id</th>\n",
       "      <th>race_round</th>\n",
       "      <th>race_title</th>\n",
       "      <th>race_course</th>\n",
       "      <th>weather</th>\n",
       "      <th>ground_status</th>\n",
       "      <th>time</th>\n",
       "      <th>date</th>\n",
       "      <th>where_racecourse</th>\n",
       "      <th>total_horse_number</th>\n",
       "      <th>frame_number_first</th>\n",
       "      <th>horse_number_first</th>\n",
       "      <th>frame_number_second</th>\n",
       "      <th>horse_number_second</th>\n",
       "      <th>frame_number_third</th>\n",
       "      <th>horse_number_third</th>\n",
       "      <th>tansyo</th>\n",
       "      <th>hukusyo_first</th>\n",
       "      <th>hukusyo_second</th>\n",
       "      <th>hukusyo_third</th>\n",
       "      <th>wakuren</th>\n",
       "      <th>umaren</th>\n",
       "      <th>wide_1_2</th>\n",
       "      <th>wide_1_3</th>\n",
       "      <th>wide_2_3</th>\n",
       "      <th>umatan</th>\n",
       "      <th>renhuku3</th>\n",
       "      <th>rentan3</th>\n",
       "    </tr>\n",
       "  </thead>\n",
       "  <tbody>\n",
       "    <tr>\n",
       "      <th>268</th>\n",
       "      <td>201905021209</td>\n",
       "      <td>9 R</td>\n",
       "      <td>薫風ステークス</td>\n",
       "      <td>ダ左1600m</td>\n",
       "      <td>天候 : 晴</td>\n",
       "      <td>ダート : 良</td>\n",
       "      <td>発走 : 14:15\\n\\n過去の薫風ステークス</td>\n",
       "      <td>2019年5月26日</td>\n",
       "      <td>2回東京12日目</td>\n",
       "      <td>15</td>\n",
       "      <td>6</td>\n",
       "      <td>10</td>\n",
       "      <td>3</td>\n",
       "      <td>4</td>\n",
       "      <td>8</td>\n",
       "      <td>15</td>\n",
       "      <td>420</td>\n",
       "      <td>190</td>\n",
       "      <td>270</td>\n",
       "      <td>140</td>\n",
       "      <td>850</td>\n",
       "      <td>2,140</td>\n",
       "      <td>890</td>\n",
       "      <td>380</td>\n",
       "      <td>690</td>\n",
       "      <td>3,390</td>\n",
       "      <td>3,040</td>\n",
       "      <td>14,990</td>\n",
       "    </tr>\n",
       "    <tr>\n",
       "      <th>269</th>\n",
       "      <td>201905010104</td>\n",
       "      <td>4 R</td>\n",
       "      <td>3歳500万下</td>\n",
       "      <td>ダ左1600m</td>\n",
       "      <td>天候 : 晴</td>\n",
       "      <td>ダート : 良</td>\n",
       "      <td>発走 : 11:40</td>\n",
       "      <td>2019年1月26日</td>\n",
       "      <td>1回東京1日目</td>\n",
       "      <td>14</td>\n",
       "      <td>8</td>\n",
       "      <td>13</td>\n",
       "      <td>3</td>\n",
       "      <td>4</td>\n",
       "      <td>6</td>\n",
       "      <td>10</td>\n",
       "      <td>340</td>\n",
       "      <td>170</td>\n",
       "      <td>170</td>\n",
       "      <td>480</td>\n",
       "      <td>550</td>\n",
       "      <td>760</td>\n",
       "      <td>380</td>\n",
       "      <td>1,130</td>\n",
       "      <td>1,600</td>\n",
       "      <td>1,480</td>\n",
       "      <td>3,870</td>\n",
       "      <td>16,710</td>\n",
       "    </tr>\n",
       "  </tbody>\n",
       "</table>\n",
       "</div>"
      ],
      "text/plain": [
       "          race_id race_round race_title race_course weather ground_status  \\\n",
       "268  201905021209        9 R   薫風ステークス      ダ左1600m  天候 : 晴       ダート : 良   \n",
       "269  201905010104        4 R    3歳500万下     ダ左1600m  天候 : 晴       ダート : 良   \n",
       "\n",
       "                         time        date where_racecourse  \\\n",
       "268  発走 : 14:15\\n\\n過去の薫風ステークス  2019年5月26日         2回東京12日目   \n",
       "269                発走 : 11:40  2019年1月26日          1回東京1日目   \n",
       "\n",
       "     total_horse_number  frame_number_first  horse_number_first  \\\n",
       "268                  15                   6                  10   \n",
       "269                  14                   8                  13   \n",
       "\n",
       "     frame_number_second  horse_number_second  frame_number_third  \\\n",
       "268                    3                    4                   8   \n",
       "269                    3                    4                   6   \n",
       "\n",
       "     horse_number_third tansyo hukusyo_first hukusyo_second hukusyo_third  \\\n",
       "268                  15    420           190            270           140   \n",
       "269                  10    340           170            170           480   \n",
       "\n",
       "    wakuren umaren wide_1_2 wide_1_3 wide_2_3 umatan renhuku3 rentan3  \n",
       "268     850  2,140      890      380      690  3,390    3,040  14,990  \n",
       "269     550    760      380    1,130    1,600  1,480    3,870  16,710  "
      ]
     },
     "execution_count": 3,
     "metadata": {},
     "output_type": "execute_result"
    }
   ],
   "source": [
    "# race_id単位で重複したデータが存在しないか確認\n",
    "print(len(race_df) == len(race_df['race_id'].unique()))\n",
    "print(race_df.shape)\n",
    "race_df.tail(2)"
   ]
  },
  {
   "cell_type": "code",
   "execution_count": 4,
   "metadata": {},
   "outputs": [
    {
     "data": {
      "text/plain": [
       "16    2220\n",
       "15     253\n",
       "14     189\n",
       "13     126\n",
       "12     103\n",
       "11      74\n",
       "10      47\n",
       "9       19\n",
       "8        8\n",
       "7        3\n",
       "Name: total_horse_number, dtype: int64"
      ]
     },
     "execution_count": 4,
     "metadata": {},
     "output_type": "execute_result"
    }
   ],
   "source": [
    "# 出走馬数の確認\n",
    "race_df[\"total_horse_number\"].value_counts()"
   ]
  },
  {
   "cell_type": "code",
   "execution_count": 5,
   "metadata": {},
   "outputs": [
    {
     "name": "stdout",
     "output_type": "stream",
     "text": [
      "(46375, 19)\n"
     ]
    },
    {
     "data": {
      "text/html": [
       "<div>\n",
       "<style scoped>\n",
       "    .dataframe tbody tr th:only-of-type {\n",
       "        vertical-align: middle;\n",
       "    }\n",
       "\n",
       "    .dataframe tbody tr th {\n",
       "        vertical-align: top;\n",
       "    }\n",
       "\n",
       "    .dataframe thead th {\n",
       "        text-align: right;\n",
       "    }\n",
       "</style>\n",
       "<table border=\"1\" class=\"dataframe\">\n",
       "  <thead>\n",
       "    <tr style=\"text-align: right;\">\n",
       "      <th></th>\n",
       "      <th>race_id</th>\n",
       "      <th>rank</th>\n",
       "      <th>frame_number</th>\n",
       "      <th>horse_number</th>\n",
       "      <th>horse_id</th>\n",
       "      <th>sex_and_age</th>\n",
       "      <th>burden_weight</th>\n",
       "      <th>rider_id</th>\n",
       "      <th>goal_time</th>\n",
       "      <th>goal_time_dif</th>\n",
       "      <th>time_value</th>\n",
       "      <th>half_way_rank</th>\n",
       "      <th>last_time</th>\n",
       "      <th>odds</th>\n",
       "      <th>popular</th>\n",
       "      <th>horse_weight</th>\n",
       "      <th>tame_time</th>\n",
       "      <th>tamer_id</th>\n",
       "      <th>owner_id</th>\n",
       "    </tr>\n",
       "  </thead>\n",
       "  <tbody>\n",
       "    <tr>\n",
       "      <th>0</th>\n",
       "      <td>200805010502</td>\n",
       "      <td>1</td>\n",
       "      <td>3</td>\n",
       "      <td>4</td>\n",
       "      <td>2005105185</td>\n",
       "      <td>牝3</td>\n",
       "      <td>54.0</td>\n",
       "      <td>1085</td>\n",
       "      <td>1:20.6</td>\n",
       "      <td>NaN</td>\n",
       "      <td>\\n\\n**\\n\\n</td>\n",
       "      <td>1-1</td>\n",
       "      <td>37.7</td>\n",
       "      <td>7.6</td>\n",
       "      <td>3.0</td>\n",
       "      <td>454(0)</td>\n",
       "      <td>\\n\\n</td>\n",
       "      <td>1017</td>\n",
       "      <td>853002</td>\n",
       "    </tr>\n",
       "    <tr>\n",
       "      <th>1</th>\n",
       "      <td>200805010502</td>\n",
       "      <td>2</td>\n",
       "      <td>6</td>\n",
       "      <td>10</td>\n",
       "      <td>2005106076</td>\n",
       "      <td>牝3</td>\n",
       "      <td>54.0</td>\n",
       "      <td>663</td>\n",
       "      <td>1:20.6</td>\n",
       "      <td>クビ</td>\n",
       "      <td>\\n\\n**\\n\\n</td>\n",
       "      <td>3-2</td>\n",
       "      <td>37.6</td>\n",
       "      <td>5.1</td>\n",
       "      <td>2.0</td>\n",
       "      <td>478(0)</td>\n",
       "      <td>\\n\\n</td>\n",
       "      <td>1064</td>\n",
       "      <td>138800</td>\n",
       "    </tr>\n",
       "  </tbody>\n",
       "</table>\n",
       "</div>"
      ],
      "text/plain": [
       "        race_id rank  frame_number  horse_number    horse_id sex_and_age  \\\n",
       "0  200805010502    1             3             4  2005105185          牝3   \n",
       "1  200805010502    2             6            10  2005106076          牝3   \n",
       "\n",
       "   burden_weight  rider_id goal_time goal_time_dif  time_value half_way_rank  \\\n",
       "0           54.0      1085    1:20.6           NaN  \\n\\n**\\n\\n           1-1   \n",
       "1           54.0       663    1:20.6            クビ  \\n\\n**\\n\\n           3-2   \n",
       "\n",
       "   last_time odds  popular horse_weight tame_time  tamer_id  owner_id  \n",
       "0       37.7  7.6      3.0       454(0)      \\n\\n      1017    853002  \n",
       "1       37.6  5.1      2.0       478(0)      \\n\\n      1064    138800  "
      ]
     },
     "execution_count": 5,
     "metadata": {},
     "output_type": "execute_result"
    }
   ],
   "source": [
    "print(horse_df.shape)\n",
    "horse_df.head(2)"
   ]
  },
  {
   "cell_type": "markdown",
   "metadata": {},
   "source": [
    "## raceデータの整形"
   ]
  },
  {
   "cell_type": "code",
   "execution_count": 6,
   "metadata": {},
   "outputs": [
    {
     "data": {
      "text/html": [
       "<div>\n",
       "<style scoped>\n",
       "    .dataframe tbody tr th:only-of-type {\n",
       "        vertical-align: middle;\n",
       "    }\n",
       "\n",
       "    .dataframe tbody tr th {\n",
       "        vertical-align: top;\n",
       "    }\n",
       "\n",
       "    .dataframe thead th {\n",
       "        text-align: right;\n",
       "    }\n",
       "</style>\n",
       "<table border=\"1\" class=\"dataframe\">\n",
       "  <thead>\n",
       "    <tr style=\"text-align: right;\">\n",
       "      <th></th>\n",
       "      <th>race_id</th>\n",
       "      <th>race_round</th>\n",
       "      <th>race_title</th>\n",
       "      <th>race_course</th>\n",
       "      <th>weather</th>\n",
       "      <th>ground_status</th>\n",
       "      <th>time</th>\n",
       "      <th>date</th>\n",
       "      <th>where_racecourse</th>\n",
       "      <th>total_horse_number</th>\n",
       "      <th>frame_number_first</th>\n",
       "      <th>horse_number_first</th>\n",
       "      <th>frame_number_second</th>\n",
       "      <th>horse_number_second</th>\n",
       "      <th>frame_number_third</th>\n",
       "      <th>horse_number_third</th>\n",
       "      <th>tansyo</th>\n",
       "      <th>hukusyo_first</th>\n",
       "      <th>hukusyo_second</th>\n",
       "      <th>hukusyo_third</th>\n",
       "      <th>wakuren</th>\n",
       "      <th>umaren</th>\n",
       "      <th>wide_1_2</th>\n",
       "      <th>wide_1_3</th>\n",
       "      <th>wide_2_3</th>\n",
       "      <th>umatan</th>\n",
       "      <th>renhuku3</th>\n",
       "      <th>rentan3</th>\n",
       "    </tr>\n",
       "  </thead>\n",
       "  <tbody>\n",
       "    <tr>\n",
       "      <th>0</th>\n",
       "      <td>200805010502</td>\n",
       "      <td>2 R</td>\n",
       "      <td>3歳新馬</td>\n",
       "      <td>ダ左1300m</td>\n",
       "      <td>天候 : 晴</td>\n",
       "      <td>ダート : 稍重</td>\n",
       "      <td>発走 : 10:30</td>\n",
       "      <td>2008年2月16日</td>\n",
       "      <td>1回東京5日目</td>\n",
       "      <td>15</td>\n",
       "      <td>3</td>\n",
       "      <td>4</td>\n",
       "      <td>6</td>\n",
       "      <td>10</td>\n",
       "      <td>8</td>\n",
       "      <td>14</td>\n",
       "      <td>760</td>\n",
       "      <td>250</td>\n",
       "      <td>180</td>\n",
       "      <td>300</td>\n",
       "      <td>1,530</td>\n",
       "      <td>1,680</td>\n",
       "      <td>590</td>\n",
       "      <td>790</td>\n",
       "      <td>670</td>\n",
       "      <td>3,840</td>\n",
       "      <td>4,360</td>\n",
       "      <td>0</td>\n",
       "    </tr>\n",
       "  </tbody>\n",
       "</table>\n",
       "</div>"
      ],
      "text/plain": [
       "        race_id race_round race_title race_course weather ground_status  \\\n",
       "0  200805010502        2 R       3歳新馬     ダ左1300m  天候 : 晴      ダート : 稍重   \n",
       "\n",
       "         time        date where_racecourse  total_horse_number  \\\n",
       "0  発走 : 10:30  2008年2月16日          1回東京5日目                  15   \n",
       "\n",
       "   frame_number_first  horse_number_first  frame_number_second  \\\n",
       "0                   3                   4                    6   \n",
       "\n",
       "   horse_number_second  frame_number_third  horse_number_third tansyo  \\\n",
       "0                   10                   8                  14    760   \n",
       "\n",
       "  hukusyo_first hukusyo_second hukusyo_third wakuren umaren wide_1_2 wide_1_3  \\\n",
       "0           250            180           300   1,530  1,680      590      790   \n",
       "\n",
       "  wide_2_3 umatan renhuku3 rentan3  \n",
       "0      670  3,840    4,360       0  "
      ]
     },
     "execution_count": 6,
     "metadata": {},
     "output_type": "execute_result"
    }
   ],
   "source": [
    "race_df.head(1)"
   ]
  },
  {
   "cell_type": "markdown",
   "metadata": {},
   "source": [
    "### race_id\n",
    "そのままでOK"
   ]
  },
  {
   "cell_type": "code",
   "execution_count": 7,
   "metadata": {},
   "outputs": [
    {
     "data": {
      "text/plain": [
       "dtype('int64')"
      ]
     },
     "execution_count": 7,
     "metadata": {},
     "output_type": "execute_result"
    }
   ],
   "source": [
    "# 一応確認\n",
    "race_df[\"race_id\"].dtypes"
   ]
  },
  {
   "cell_type": "markdown",
   "metadata": {},
   "source": [
    "### race_round\n",
    "余分な空白とRを取り除く"
   ]
  },
  {
   "cell_type": "code",
   "execution_count": 8,
   "metadata": {},
   "outputs": [
    {
     "data": {
      "text/plain": [
       "dtype('O')"
      ]
     },
     "execution_count": 8,
     "metadata": {},
     "output_type": "execute_result"
    }
   ],
   "source": [
    "race_df[\"race_round\"].dtypes"
   ]
  },
  {
   "cell_type": "code",
   "execution_count": 9,
   "metadata": {},
   "outputs": [
    {
     "data": {
      "text/plain": [
       "array(['2 R', '8 R', '12 R', '3 R', '11 R', '6 R', '1 R', '7 R', '5 R',\n",
       "       '10 R', '4 R', '9 R'], dtype=object)"
      ]
     },
     "execution_count": 9,
     "metadata": {},
     "output_type": "execute_result"
    }
   ],
   "source": [
    "race_df['race_round'].unique()"
   ]
  },
  {
   "cell_type": "code",
   "execution_count": 10,
   "metadata": {},
   "outputs": [],
   "source": [
    "race_df['race_round'] = race_df['race_round'].str.strip('R \\n')"
   ]
  },
  {
   "cell_type": "code",
   "execution_count": 11,
   "metadata": {},
   "outputs": [
    {
     "data": {
      "text/plain": [
       "array(['2', '8', '12', '3', '11', '6', '1', '7', '5', '10', '4', '9'],\n",
       "      dtype=object)"
      ]
     },
     "execution_count": 11,
     "metadata": {},
     "output_type": "execute_result"
    }
   ],
   "source": [
    "race_df['race_round'].unique()"
   ]
  },
  {
   "cell_type": "code",
   "execution_count": 12,
   "metadata": {},
   "outputs": [
    {
     "data": {
      "text/plain": [
       "dtype('int64')"
      ]
     },
     "execution_count": 12,
     "metadata": {},
     "output_type": "execute_result"
    }
   ],
   "source": [
    "race_df['race_round'] = race_df['race_round'].astype(int)\n",
    "race_df[\"race_round\"].dtypes"
   ]
  },
  {
   "cell_type": "markdown",
   "metadata": {},
   "source": [
    "### race_title\n",
    "いらないので削除"
   ]
  },
  {
   "cell_type": "code",
   "execution_count": 13,
   "metadata": {},
   "outputs": [],
   "source": [
    "# もともとのカラムは不要なので削除\n",
    "race_df.drop(['race_title'], axis=1, inplace=True)"
   ]
  },
  {
   "cell_type": "markdown",
   "metadata": {},
   "source": [
    "### race_course \n",
    "東京競馬場のダートコースのみなので、以下のもの\n",
    "\n",
    "'ダ左1300m', 'ダ左1600m', 'ダ左1400m', 'ダ左2100m', 'ダ左2400m'\n",
    "\n",
    "ダート・左回りはすべて同じなので、距離のみを気にすればよい。"
   ]
  },
  {
   "cell_type": "code",
   "execution_count": 15,
   "metadata": {},
   "outputs": [
    {
     "data": {
      "text/plain": [
       "array(['ダ左1300m', 'ダ左1600m', 'ダ左1400m', 'ダ左2100m', 'ダ左2400m'],\n",
       "      dtype=object)"
      ]
     },
     "execution_count": 15,
     "metadata": {},
     "output_type": "execute_result"
    }
   ],
   "source": [
    "race_df[\"race_course\"].unique()"
   ]
  },
  {
   "cell_type": "code",
   "execution_count": 16,
   "metadata": {},
   "outputs": [
    {
     "name": "stdout",
     "output_type": "stream",
     "text": [
      "distance isnull sum: 0\n"
     ]
    }
   ],
   "source": [
    "distance = race_df[\"race_course\"].str.extract('(\\d+)m', expand=True)\n",
    "distance.columns = {\"distance\"}\n",
    "race_df = pd.concat([race_df, distance], axis=1)\n",
    "# もともとのカラムは不要なので削除\n",
    "race_df.drop(['race_course'], axis=1, inplace=True)\n",
    "print(\"distance isnull sum:\", race_df[\"distance\"].isnull().sum())\n",
    "race_df[\"distance\"] = race_df[\"distance\"].astype(int)"
   ]
  },
  {
   "cell_type": "markdown",
   "metadata": {},
   "source": [
    "### race_course(旧)\n",
    "「ダ右1200m」などであれば、ダート・右回り・1200に分割して、それぞれ別のカラムにする。\n",
    "\n",
    "新たに4つのカラムを追加\n",
    "- 障害コースか？\n",
    "- 地面のタイプは何か？\n",
    "- 右回り・左回り・直線か？\n",
    "- 距離は？"
   ]
  },
  {
   "cell_type": "code",
   "execution_count": 14,
   "metadata": {},
   "outputs": [
    {
     "data": {
      "text/plain": [
       "array(['ダ左1300m', 'ダ左1600m', 'ダ左1400m', 'ダ左2100m', 'ダ左2400m'],\n",
       "      dtype=object)"
      ]
     },
     "execution_count": 14,
     "metadata": {},
     "output_type": "execute_result"
    }
   ],
   "source": [
    "# race_df[\"race_course\"].unique()"
   ]
  },
  {
   "cell_type": "code",
   "execution_count": 15,
   "metadata": {},
   "outputs": [],
   "source": [
    "\"\"\"# 正規表現で取得\n",
    "\n",
    "# 障害か、地面のタイプは何か、左か、右か、直線か、\n",
    "obstacle = race_df[\"race_course\"].str.extract('(障)', expand=True)\n",
    "ground_type = race_df[\"race_course\"].str.extract('(ダ|芝)', expand=True)\n",
    "is_left_right_straight = race_df[\"race_course\"].str.extract('(左|右|直線)', expand=True)\n",
    "distance = race_df[\"race_course\"].str.extract('(\\d+)m', expand=True)\n",
    "\n",
    "obstacle.columns ={\"is_obstacle\"}\n",
    "ground_type.columns ={\"ground_type\"}\n",
    "is_left_right_straight.columns = {\"is_left_right_straight\"}\n",
    "distance.columns = {\"distance\"}\n",
    "\n",
    "race_df = pd.concat([race_df, obstacle], axis=1)\n",
    "race_df = pd.concat([race_df, ground_type], axis=1)\n",
    "race_df = pd.concat([race_df, is_left_right_straight], axis=1)\n",
    "race_df = pd.concat([race_df, distance], axis=1)\n",
    "\n",
    "# 'is_obstacle' 列の '障芝' を1に置き換え、Nanに0埋め\n",
    "race_df['is_obstacle'] = race_df['is_obstacle'].replace('障', 1)\n",
    "race_df.fillna(value={'is_obstacle': 0}, inplace=True)\n",
    "\n",
    "print(\"is_obstacle:\", race_df[\"is_obstacle\"].unique())\n",
    "print(\"ground_type:\", race_df[\"ground_type\"].unique())\n",
    "print(\"is_left_right_straight:\", race_df[\"is_left_right_straight\"].unique())\n",
    "print(\"distance isnull sum:\", race_df[\"distance\"].isnull().sum())\n",
    "\n",
    "# もともとのカラムは不要なので削除\n",
    "race_df.drop(['race_course'], axis=1, inplace=True)\n",
    "\n",
    "race_df[\"distance\"] = race_df[\"distance\"].astype(int)\"\"\""
   ]
  },
  {
   "cell_type": "markdown",
   "metadata": {},
   "source": [
    "### weather\n",
    "そのままone_hotエンコーディングしてデータを食わせても良さそうだが...\n",
    "\n",
    "余分な文字列を取り除く。\n",
    "\n",
    "また、少雨よりも雨が強いはず、小雪よりも雪が強いはず。これらの単純な雨量は別のデータを取ってこないと分からないが、大小関係は情報として入れられるはず。"
   ]
  },
  {
   "cell_type": "code",
   "execution_count": 17,
   "metadata": {},
   "outputs": [
    {
     "data": {
      "text/plain": [
       "array(['天候 : 晴', '天候 : 小雪', '天候 : 曇', '天候 : 小雨', '天候 : 雨'], dtype=object)"
      ]
     },
     "execution_count": 17,
     "metadata": {},
     "output_type": "execute_result"
    }
   ],
   "source": [
    "race_df[\"weather\"].unique()"
   ]
  },
  {
   "cell_type": "code",
   "execution_count": 18,
   "metadata": {},
   "outputs": [
    {
     "data": {
      "text/plain": [
       "array(['晴', '小雪', '曇', '小雨', '雨'], dtype=object)"
      ]
     },
     "execution_count": 18,
     "metadata": {},
     "output_type": "execute_result"
    }
   ],
   "source": [
    "race_df['weather'] = race_df['weather'].str.strip('天候 :')\n",
    "race_df[\"weather\"].unique()"
   ]
  },
  {
   "cell_type": "code",
   "execution_count": 19,
   "metadata": {},
   "outputs": [],
   "source": [
    "weather_rain = race_df[\"weather\"].str.extract('(小雨|雨)', expand=True)\n",
    "weather_snow = race_df[\"weather\"].str.extract('(小雪|雪)', expand=True)\n",
    "weather_rain.columns ={\"weather_rain\"}\n",
    "weather_snow.columns ={\"weather_snow\"}\n",
    "race_df = pd.concat([race_df, weather_rain], axis=1)\n",
    "race_df = pd.concat([race_df, weather_snow], axis=1)\n",
    "\n",
    "race_df.fillna(value={'weather_rain': 0}, inplace=True)\n",
    "race_df['weather_rain'] = race_df['weather_rain'].replace('小雨', 1)\n",
    "race_df['weather_rain'] = race_df['weather_rain'].replace('雨', 2)\n",
    "race_df.fillna(value={'weather_snow': 0}, inplace=True)\n",
    "race_df['weather_snow'] = race_df['weather_snow'].replace('小雪', 1)\n",
    "race_df['weather_snow'] = race_df['weather_snow'].replace('雪', 2)"
   ]
  },
  {
   "cell_type": "code",
   "execution_count": 33,
   "metadata": {},
   "outputs": [
    {
     "name": "stdout",
     "output_type": "stream",
     "text": [
      "weather_rain: 0    2762\n",
      "2     151\n",
      "1     129\n",
      "Name: weather_rain, dtype: int64\n",
      "weather_snow: 0    3036\n",
      "1       6\n",
      "Name: weather_snow, dtype: int64\n"
     ]
    }
   ],
   "source": [
    "print(\"weather_rain:\", race_df[\"weather_rain\"].value_counts())\n",
    "print(\"weather_snow:\", race_df[\"weather_snow\"].value_counts())\n",
    "race_df.drop(['weather'], axis=1, inplace=True)"
   ]
  },
  {
   "cell_type": "markdown",
   "metadata": {},
   "source": [
    "### ground_status\n",
    "芝かダートかは既に別カラムにあるので、状態を見る。\n",
    "大小関係があるので数値として。"
   ]
  },
  {
   "cell_type": "code",
   "execution_count": 21,
   "metadata": {},
   "outputs": [
    {
     "data": {
      "text/plain": [
       "array(['ダート : 稍重', 'ダート : 良', 'ダート : 不良', 'ダート : 重'], dtype=object)"
      ]
     },
     "execution_count": 21,
     "metadata": {},
     "output_type": "execute_result"
    }
   ],
   "source": [
    "race_df[\"ground_status\"].unique()"
   ]
  },
  {
   "cell_type": "code",
   "execution_count": 22,
   "metadata": {},
   "outputs": [],
   "source": [
    "race_df['ground_status'] = race_df['ground_status'].replace('.*(稍重).*', 4,regex=True)\n",
    "race_df['ground_status'] = race_df['ground_status'].replace('.*(重).*', 3,regex=True)\n",
    "race_df['ground_status'] = race_df['ground_status'].replace('.*(不良).*', 2,regex=True)\n",
    "race_df['ground_status'] = race_df['ground_status'].replace('.*(良).*', 1,regex=True)"
   ]
  },
  {
   "cell_type": "code",
   "execution_count": 23,
   "metadata": {},
   "outputs": [
    {
     "name": "stdout",
     "output_type": "stream",
     "text": [
      "ground_status: 1    1966\n",
      "4     470\n",
      "3     347\n",
      "2     259\n",
      "Name: ground_status, dtype: int64\n"
     ]
    }
   ],
   "source": [
    "print(\"ground_status:\", race_df[\"ground_status\"].value_counts())"
   ]
  },
  {
   "cell_type": "markdown",
   "metadata": {},
   "source": [
    "### time と dateをあわせてdatetimeに"
   ]
  },
  {
   "cell_type": "code",
   "execution_count": 24,
   "metadata": {},
   "outputs": [
    {
     "name": "stdout",
     "output_type": "stream",
     "text": [
      "datetime64[ns]\n",
      "date isnull sum: 0\n"
     ]
    }
   ],
   "source": [
    "race_df[\"time\"] = race_df[\"time\"].str.replace('発走 : (\\d\\d):(\\d\\d)(.|\\n)*', r'\\1時\\2分')\n",
    "race_df[\"date\"] = race_df[\"date\"] + race_df[\"time\"]\n",
    "race_df[\"date\"] = pd.to_datetime(race_df['date'], format='%Y年%m月%d日%H時%M分')\n",
    "# もともとのtimeは不要なので削除\n",
    "race_df.drop(['time'], axis=1, inplace=True)\n",
    "print(race_df[\"date\"].dtype)\n",
    "print(\"date isnull sum:\", race_df[\"date\"].isnull().sum())"
   ]
  },
  {
   "cell_type": "markdown",
   "metadata": {},
   "source": [
    "### where_racecourse\n",
    "すべて東京なので不要"
   ]
  },
  {
   "cell_type": "code",
   "execution_count": 27,
   "metadata": {},
   "outputs": [],
   "source": [
    "race_df.drop(['where_racecourse'], axis=1, inplace=True)"
   ]
  },
  {
   "cell_type": "markdown",
   "metadata": {},
   "source": [
    "### where_racecourse（旧）\n",
    "例:1回小倉3日目 の中から小倉を取り出す"
   ]
  },
  {
   "cell_type": "code",
   "execution_count": 25,
   "metadata": {},
   "outputs": [
    {
     "data": {
      "text/plain": [
       "array(['東京'], dtype=object)"
      ]
     },
     "execution_count": 25,
     "metadata": {},
     "output_type": "execute_result"
    }
   ],
   "source": [
    "\"\"\"race_df[\"where_racecourse\"] = race_df[\"where_racecourse\"].str.replace('\\d*回(..)\\d*日目', r'\\1')\n",
    "# 確認\n",
    "race_df[\"where_racecourse\"].unique()\"\"\""
   ]
  },
  {
   "cell_type": "markdown",
   "metadata": {},
   "source": [
    "###  馬の数や順位\n",
    "- total_horse_number                 int64\n",
    "- frame_number_first                 int64\n",
    "- horse_number_first                 int64\n",
    "- frame_number_second                int64\n",
    "- horse_number_second                int64\n",
    "- frame_number_third                 int64\n",
    "- horse_number_third                 int64\n",
    "\n",
    "これらはそのままでOK"
   ]
  },
  {
   "cell_type": "markdown",
   "metadata": {},
   "source": [
    "### オッズから余分な「,」を除く\n",
    "- tansyo                            object\n",
    "- hukuren_first                     object\n",
    "- hukuren_second                    object\n",
    "- hukuren_third                     object\n",
    "- renhuku3                          object\n",
    "- rentan3                           object\n",
    "\n",
    "数値と文字列が混在しているので面倒\n",
    "```\n",
    "race_df['tansyo'] = race_df['tansyo'].str.strip(',')\n",
    "```\n",
    "などとしてもだめ"
   ]
  },
  {
   "cell_type": "code",
   "execution_count": 28,
   "metadata": {},
   "outputs": [
    {
     "data": {
      "text/plain": [
       "Index(['race_id', 'race_round', 'weather', 'ground_status', 'date',\n",
       "       'total_horse_number', 'frame_number_first', 'horse_number_first',\n",
       "       'frame_number_second', 'horse_number_second', 'frame_number_third',\n",
       "       'horse_number_third', 'tansyo', 'hukusyo_first', 'hukusyo_second',\n",
       "       'hukusyo_third', 'wakuren', 'umaren', 'wide_1_2', 'wide_1_3',\n",
       "       'wide_2_3', 'umatan', 'renhuku3', 'rentan3', 'distance', 'weather_rain',\n",
       "       'weather_snow'],\n",
       "      dtype='object')"
      ]
     },
     "execution_count": 28,
     "metadata": {},
     "output_type": "execute_result"
    }
   ],
   "source": [
    "race_df.columns"
   ]
  },
  {
   "cell_type": "code",
   "execution_count": 29,
   "metadata": {},
   "outputs": [],
   "source": [
    "race_df['tansyo'] = race_df['tansyo'].apply(lambda x: int(x.replace(\",\", \"\")) if type(x) is str else int(x))\n",
    "race_df['hukusyo_first'] = race_df['hukusyo_first'].apply(lambda x: int(x.replace(\",\", \"\")) if type(x) is str else int(x))\n",
    "race_df['hukusyo_second'] = race_df['hukusyo_second'].apply(lambda x: int(x.replace(\",\", \"\")) if type(x) is str else int(x))\n",
    "race_df['hukusyo_third'] = race_df['hukusyo_third'].apply(lambda x: int(x.replace(\",\", \"\")) if type(x) is str else int(x))\n",
    "race_df['wakuren'] = race_df['wakuren'].apply(lambda x: int(x.replace(\",\", \"\")) if type(x) is str else int(x))\n",
    "race_df['umaren'] = race_df['umaren'].apply(lambda x: int(x.replace(\",\", \"\")) if type(x) is str else int(x))\n",
    "race_df['wide_1_2'] = race_df['wide_1_2'].apply(lambda x: int(x.replace(\",\", \"\")) if type(x) is str else int(x))\n",
    "race_df['wide_1_3'] = race_df['wide_1_3'].apply(lambda x: int(x.replace(\",\", \"\")) if type(x) is str else int(x))\n",
    "race_df['wide_2_3'] = race_df['wide_2_3'].apply(lambda x: int(x.replace(\",\", \"\")) if type(x) is str else int(x))\n",
    "race_df['umatan'] = race_df['umatan'].apply(lambda x: int(x.replace(\",\", \"\")) if type(x) is str else int(x))\n",
    "race_df['renhuku3'] = race_df['renhuku3'].apply(lambda x: int(x.replace(\",\", \"\")) if type(x) is str else int(x))\n",
    "race_df['rentan3'] = race_df['rentan3'].apply(lambda x: int(x.replace(\",\", \"\")) if type(x) is str else int(x))\n"
   ]
  },
  {
   "cell_type": "code",
   "execution_count": 34,
   "metadata": {},
   "outputs": [
    {
     "name": "stdout",
     "output_type": "stream",
     "text": [
      "dataframeの各列のデータ型を確認==>\n",
      " race_id                        object\n",
      "race_round                      int64\n",
      "ground_status                   int64\n",
      "date                   datetime64[ns]\n",
      "total_horse_number              int64\n",
      "frame_number_first              int64\n",
      "horse_number_first              int64\n",
      "frame_number_second             int64\n",
      "horse_number_second             int64\n",
      "frame_number_third              int64\n",
      "horse_number_third              int64\n",
      "tansyo                          int64\n",
      "hukusyo_first                   int64\n",
      "hukusyo_second                  int64\n",
      "hukusyo_third                   int64\n",
      "wakuren                         int64\n",
      "umaren                          int64\n",
      "wide_1_2                        int64\n",
      "wide_1_3                        int64\n",
      "wide_2_3                        int64\n",
      "umatan                          int64\n",
      "renhuku3                        int64\n",
      "rentan3                         int64\n",
      "distance                        int64\n",
      "weather_rain                    int64\n",
      "weather_snow                    int64\n",
      "dtype: object\n"
     ]
    },
    {
     "data": {
      "text/html": [
       "<div>\n",
       "<style scoped>\n",
       "    .dataframe tbody tr th:only-of-type {\n",
       "        vertical-align: middle;\n",
       "    }\n",
       "\n",
       "    .dataframe tbody tr th {\n",
       "        vertical-align: top;\n",
       "    }\n",
       "\n",
       "    .dataframe thead th {\n",
       "        text-align: right;\n",
       "    }\n",
       "</style>\n",
       "<table border=\"1\" class=\"dataframe\">\n",
       "  <thead>\n",
       "    <tr style=\"text-align: right;\">\n",
       "      <th></th>\n",
       "      <th>race_id</th>\n",
       "      <th>race_round</th>\n",
       "      <th>ground_status</th>\n",
       "      <th>date</th>\n",
       "      <th>total_horse_number</th>\n",
       "      <th>frame_number_first</th>\n",
       "      <th>horse_number_first</th>\n",
       "      <th>frame_number_second</th>\n",
       "      <th>horse_number_second</th>\n",
       "      <th>frame_number_third</th>\n",
       "      <th>horse_number_third</th>\n",
       "      <th>tansyo</th>\n",
       "      <th>hukusyo_first</th>\n",
       "      <th>hukusyo_second</th>\n",
       "      <th>hukusyo_third</th>\n",
       "      <th>wakuren</th>\n",
       "      <th>umaren</th>\n",
       "      <th>wide_1_2</th>\n",
       "      <th>wide_1_3</th>\n",
       "      <th>wide_2_3</th>\n",
       "      <th>umatan</th>\n",
       "      <th>renhuku3</th>\n",
       "      <th>rentan3</th>\n",
       "      <th>distance</th>\n",
       "      <th>weather_rain</th>\n",
       "      <th>weather_snow</th>\n",
       "    </tr>\n",
       "  </thead>\n",
       "  <tbody>\n",
       "    <tr>\n",
       "      <th>0</th>\n",
       "      <td>200805010502</td>\n",
       "      <td>2</td>\n",
       "      <td>4</td>\n",
       "      <td>2008-02-16 10:30:00</td>\n",
       "      <td>15</td>\n",
       "      <td>3</td>\n",
       "      <td>4</td>\n",
       "      <td>6</td>\n",
       "      <td>10</td>\n",
       "      <td>8</td>\n",
       "      <td>14</td>\n",
       "      <td>760</td>\n",
       "      <td>250</td>\n",
       "      <td>180</td>\n",
       "      <td>300</td>\n",
       "      <td>1530</td>\n",
       "      <td>1680</td>\n",
       "      <td>590</td>\n",
       "      <td>790</td>\n",
       "      <td>670</td>\n",
       "      <td>3840</td>\n",
       "      <td>4360</td>\n",
       "      <td>0</td>\n",
       "      <td>1300</td>\n",
       "      <td>0</td>\n",
       "      <td>0</td>\n",
       "    </tr>\n",
       "  </tbody>\n",
       "</table>\n",
       "</div>"
      ],
      "text/plain": [
       "        race_id  race_round  ground_status                date  \\\n",
       "0  200805010502           2              4 2008-02-16 10:30:00   \n",
       "\n",
       "   total_horse_number  frame_number_first  horse_number_first  \\\n",
       "0                  15                   3                   4   \n",
       "\n",
       "   frame_number_second  horse_number_second  frame_number_third  \\\n",
       "0                    6                   10                   8   \n",
       "\n",
       "   horse_number_third  tansyo  hukusyo_first  hukusyo_second  hukusyo_third  \\\n",
       "0                  14     760            250             180            300   \n",
       "\n",
       "   wakuren  umaren  wide_1_2  wide_1_3  wide_2_3  umatan  renhuku3  rentan3  \\\n",
       "0     1530    1680       590       790       670    3840      4360        0   \n",
       "\n",
       "   distance  weather_rain  weather_snow  \n",
       "0      1300             0             0  "
      ]
     },
     "execution_count": 34,
     "metadata": {},
     "output_type": "execute_result"
    }
   ],
   "source": [
    "# 確認\n",
    "race_df['race_id'] = race_df['race_id'].astype(str)\n",
    "#race_df['race_title'] = race_df['race_title'].astype(str)\n",
    "print('dataframeの各列のデータ型を確認==>\\n', race_df.dtypes)\n",
    "\n",
    "\n",
    "race_df.head(1)"
   ]
  },
  {
   "cell_type": "markdown",
   "metadata": {},
   "source": [
    "### race dataの保存"
   ]
  },
  {
   "cell_type": "code",
   "execution_count": 35,
   "metadata": {},
   "outputs": [],
   "source": [
    "race_df.to_csv(\"csv_cleaned/race_data.csv\", index=False )"
   ]
  },
  {
   "cell_type": "code",
   "execution_count": null,
   "metadata": {},
   "outputs": [],
   "source": []
  },
  {
   "cell_type": "code",
   "execution_count": null,
   "metadata": {},
   "outputs": [],
   "source": []
  },
  {
   "cell_type": "markdown",
   "metadata": {},
   "source": [
    "## horse data の整形"
   ]
  },
  {
   "cell_type": "code",
   "execution_count": 36,
   "metadata": {},
   "outputs": [
    {
     "name": "stdout",
     "output_type": "stream",
     "text": [
      "(46375, 19)\n",
      "race_id            int64\n",
      "rank              object\n",
      "frame_number       int64\n",
      "horse_number       int64\n",
      "horse_id           int64\n",
      "sex_and_age       object\n",
      "burden_weight    float64\n",
      "rider_id           int64\n",
      "goal_time         object\n",
      "goal_time_dif     object\n",
      "time_value        object\n",
      "half_way_rank     object\n",
      "last_time        float64\n",
      "odds              object\n",
      "popular          float64\n",
      "horse_weight      object\n",
      "tame_time         object\n",
      "tamer_id           int64\n",
      "owner_id           int64\n",
      "dtype: object\n"
     ]
    },
    {
     "data": {
      "text/html": [
       "<div>\n",
       "<style scoped>\n",
       "    .dataframe tbody tr th:only-of-type {\n",
       "        vertical-align: middle;\n",
       "    }\n",
       "\n",
       "    .dataframe tbody tr th {\n",
       "        vertical-align: top;\n",
       "    }\n",
       "\n",
       "    .dataframe thead th {\n",
       "        text-align: right;\n",
       "    }\n",
       "</style>\n",
       "<table border=\"1\" class=\"dataframe\">\n",
       "  <thead>\n",
       "    <tr style=\"text-align: right;\">\n",
       "      <th></th>\n",
       "      <th>race_id</th>\n",
       "      <th>rank</th>\n",
       "      <th>frame_number</th>\n",
       "      <th>horse_number</th>\n",
       "      <th>horse_id</th>\n",
       "      <th>sex_and_age</th>\n",
       "      <th>burden_weight</th>\n",
       "      <th>rider_id</th>\n",
       "      <th>goal_time</th>\n",
       "      <th>goal_time_dif</th>\n",
       "      <th>time_value</th>\n",
       "      <th>half_way_rank</th>\n",
       "      <th>last_time</th>\n",
       "      <th>odds</th>\n",
       "      <th>popular</th>\n",
       "      <th>horse_weight</th>\n",
       "      <th>tame_time</th>\n",
       "      <th>tamer_id</th>\n",
       "      <th>owner_id</th>\n",
       "    </tr>\n",
       "  </thead>\n",
       "  <tbody>\n",
       "    <tr>\n",
       "      <th>0</th>\n",
       "      <td>200805010502</td>\n",
       "      <td>1</td>\n",
       "      <td>3</td>\n",
       "      <td>4</td>\n",
       "      <td>2005105185</td>\n",
       "      <td>牝3</td>\n",
       "      <td>54.0</td>\n",
       "      <td>1085</td>\n",
       "      <td>1:20.6</td>\n",
       "      <td>NaN</td>\n",
       "      <td>\\n\\n**\\n\\n</td>\n",
       "      <td>1-1</td>\n",
       "      <td>37.7</td>\n",
       "      <td>7.6</td>\n",
       "      <td>3.0</td>\n",
       "      <td>454(0)</td>\n",
       "      <td>\\n\\n</td>\n",
       "      <td>1017</td>\n",
       "      <td>853002</td>\n",
       "    </tr>\n",
       "    <tr>\n",
       "      <th>1</th>\n",
       "      <td>200805010502</td>\n",
       "      <td>2</td>\n",
       "      <td>6</td>\n",
       "      <td>10</td>\n",
       "      <td>2005106076</td>\n",
       "      <td>牝3</td>\n",
       "      <td>54.0</td>\n",
       "      <td>663</td>\n",
       "      <td>1:20.6</td>\n",
       "      <td>クビ</td>\n",
       "      <td>\\n\\n**\\n\\n</td>\n",
       "      <td>3-2</td>\n",
       "      <td>37.6</td>\n",
       "      <td>5.1</td>\n",
       "      <td>2.0</td>\n",
       "      <td>478(0)</td>\n",
       "      <td>\\n\\n</td>\n",
       "      <td>1064</td>\n",
       "      <td>138800</td>\n",
       "    </tr>\n",
       "  </tbody>\n",
       "</table>\n",
       "</div>"
      ],
      "text/plain": [
       "        race_id rank  frame_number  horse_number    horse_id sex_and_age  \\\n",
       "0  200805010502    1             3             4  2005105185          牝3   \n",
       "1  200805010502    2             6            10  2005106076          牝3   \n",
       "\n",
       "   burden_weight rider_id goal_time goal_time_dif  time_value half_way_rank  \\\n",
       "0           54.0     1085    1:20.6           NaN  \\n\\n**\\n\\n           1-1   \n",
       "1           54.0      663    1:20.6            クビ  \\n\\n**\\n\\n           3-2   \n",
       "\n",
       "   last_time odds  popular horse_weight tame_time tamer_id owner_id  \n",
       "0       37.7  7.6      3.0       454(0)      \\n\\n     1017   853002  \n",
       "1       37.6  5.1      2.0       478(0)      \\n\\n     1064   138800  "
      ]
     },
     "execution_count": 36,
     "metadata": {},
     "output_type": "execute_result"
    }
   ],
   "source": [
    "print(horse_df.shape)\n",
    "print(horse_df.dtypes)\n",
    "horse_df['race_id'] = horse_df['race_id'].astype(str)\n",
    "horse_df['horse_id'] = horse_df['horse_id'].astype(str)\n",
    "horse_df['tamer_id'] = horse_df['tamer_id'].astype(str)\n",
    "horse_df['owner_id'] = horse_df['owner_id'].astype(str)\n",
    "horse_df['rider_id'] = horse_df['rider_id'].astype(str)\n",
    "\n",
    "horse_df.head(2)"
   ]
  },
  {
   "cell_type": "code",
   "execution_count": null,
   "metadata": {},
   "outputs": [],
   "source": []
  },
  {
   "cell_type": "code",
   "execution_count": 37,
   "metadata": {},
   "outputs": [
    {
     "data": {
      "text/html": [
       "<div>\n",
       "<style scoped>\n",
       "    .dataframe tbody tr th:only-of-type {\n",
       "        vertical-align: middle;\n",
       "    }\n",
       "\n",
       "    .dataframe tbody tr th {\n",
       "        vertical-align: top;\n",
       "    }\n",
       "\n",
       "    .dataframe thead th {\n",
       "        text-align: right;\n",
       "    }\n",
       "</style>\n",
       "<table border=\"1\" class=\"dataframe\">\n",
       "  <thead>\n",
       "    <tr style=\"text-align: right;\">\n",
       "      <th></th>\n",
       "      <th>race_id</th>\n",
       "      <th>rank</th>\n",
       "      <th>frame_number</th>\n",
       "      <th>horse_number</th>\n",
       "      <th>horse_id</th>\n",
       "      <th>sex_and_age</th>\n",
       "      <th>burden_weight</th>\n",
       "      <th>rider_id</th>\n",
       "      <th>goal_time</th>\n",
       "      <th>goal_time_dif</th>\n",
       "      <th>time_value</th>\n",
       "      <th>half_way_rank</th>\n",
       "      <th>last_time</th>\n",
       "      <th>odds</th>\n",
       "      <th>popular</th>\n",
       "      <th>horse_weight</th>\n",
       "      <th>tame_time</th>\n",
       "      <th>tamer_id</th>\n",
       "      <th>owner_id</th>\n",
       "      <th>date</th>\n",
       "    </tr>\n",
       "  </thead>\n",
       "  <tbody>\n",
       "    <tr>\n",
       "      <th>0</th>\n",
       "      <td>200805010502</td>\n",
       "      <td>1</td>\n",
       "      <td>3</td>\n",
       "      <td>4</td>\n",
       "      <td>2005105185</td>\n",
       "      <td>牝3</td>\n",
       "      <td>54.0</td>\n",
       "      <td>1085</td>\n",
       "      <td>1:20.6</td>\n",
       "      <td>NaN</td>\n",
       "      <td>\\n\\n**\\n\\n</td>\n",
       "      <td>1-1</td>\n",
       "      <td>37.7</td>\n",
       "      <td>7.6</td>\n",
       "      <td>3.0</td>\n",
       "      <td>454(0)</td>\n",
       "      <td>\\n\\n</td>\n",
       "      <td>1017</td>\n",
       "      <td>853002</td>\n",
       "      <td>2008-02-16 10:30:00</td>\n",
       "    </tr>\n",
       "    <tr>\n",
       "      <th>1</th>\n",
       "      <td>200805010502</td>\n",
       "      <td>2</td>\n",
       "      <td>6</td>\n",
       "      <td>10</td>\n",
       "      <td>2005106076</td>\n",
       "      <td>牝3</td>\n",
       "      <td>54.0</td>\n",
       "      <td>663</td>\n",
       "      <td>1:20.6</td>\n",
       "      <td>クビ</td>\n",
       "      <td>\\n\\n**\\n\\n</td>\n",
       "      <td>3-2</td>\n",
       "      <td>37.6</td>\n",
       "      <td>5.1</td>\n",
       "      <td>2.0</td>\n",
       "      <td>478(0)</td>\n",
       "      <td>\\n\\n</td>\n",
       "      <td>1064</td>\n",
       "      <td>138800</td>\n",
       "      <td>2008-02-16 10:30:00</td>\n",
       "    </tr>\n",
       "    <tr>\n",
       "      <th>2</th>\n",
       "      <td>200805010502</td>\n",
       "      <td>3</td>\n",
       "      <td>8</td>\n",
       "      <td>14</td>\n",
       "      <td>2005102725</td>\n",
       "      <td>牡3</td>\n",
       "      <td>56.0</td>\n",
       "      <td>684</td>\n",
       "      <td>1:21.2</td>\n",
       "      <td>3.1/2</td>\n",
       "      <td>\\n\\n**\\n\\n</td>\n",
       "      <td>7-8</td>\n",
       "      <td>37.6</td>\n",
       "      <td>10.2</td>\n",
       "      <td>4.0</td>\n",
       "      <td>474(0)</td>\n",
       "      <td>\\n\\n</td>\n",
       "      <td>1074</td>\n",
       "      <td>226800</td>\n",
       "      <td>2008-02-16 10:30:00</td>\n",
       "    </tr>\n",
       "    <tr>\n",
       "      <th>3</th>\n",
       "      <td>200805010502</td>\n",
       "      <td>4</td>\n",
       "      <td>5</td>\n",
       "      <td>9</td>\n",
       "      <td>2005103074</td>\n",
       "      <td>牝3</td>\n",
       "      <td>54.0</td>\n",
       "      <td>1092</td>\n",
       "      <td>1:22.1</td>\n",
       "      <td>5</td>\n",
       "      <td>\\n\\n**\\n\\n</td>\n",
       "      <td>5-4</td>\n",
       "      <td>38.9</td>\n",
       "      <td>1.8</td>\n",
       "      <td>1.0</td>\n",
       "      <td>494(0)</td>\n",
       "      <td>\\n\\n</td>\n",
       "      <td>1020</td>\n",
       "      <td>910006</td>\n",
       "      <td>2008-02-16 10:30:00</td>\n",
       "    </tr>\n",
       "    <tr>\n",
       "      <th>4</th>\n",
       "      <td>200805010502</td>\n",
       "      <td>5</td>\n",
       "      <td>3</td>\n",
       "      <td>5</td>\n",
       "      <td>2005102056</td>\n",
       "      <td>牝3</td>\n",
       "      <td>54.0</td>\n",
       "      <td>716</td>\n",
       "      <td>1:22.1</td>\n",
       "      <td>クビ</td>\n",
       "      <td>\\n\\n**\\n\\n</td>\n",
       "      <td>2-2</td>\n",
       "      <td>39.2</td>\n",
       "      <td>125.0</td>\n",
       "      <td>14.0</td>\n",
       "      <td>440(0)</td>\n",
       "      <td>\\n\\n</td>\n",
       "      <td>1010</td>\n",
       "      <td>263006</td>\n",
       "      <td>2008-02-16 10:30:00</td>\n",
       "    </tr>\n",
       "  </tbody>\n",
       "</table>\n",
       "</div>"
      ],
      "text/plain": [
       "        race_id rank  frame_number  horse_number    horse_id sex_and_age  \\\n",
       "0  200805010502    1             3             4  2005105185          牝3   \n",
       "1  200805010502    2             6            10  2005106076          牝3   \n",
       "2  200805010502    3             8            14  2005102725          牡3   \n",
       "3  200805010502    4             5             9  2005103074          牝3   \n",
       "4  200805010502    5             3             5  2005102056          牝3   \n",
       "\n",
       "   burden_weight rider_id goal_time goal_time_dif  time_value half_way_rank  \\\n",
       "0           54.0     1085    1:20.6           NaN  \\n\\n**\\n\\n           1-1   \n",
       "1           54.0      663    1:20.6            クビ  \\n\\n**\\n\\n           3-2   \n",
       "2           56.0      684    1:21.2         3.1/2  \\n\\n**\\n\\n           7-8   \n",
       "3           54.0     1092    1:22.1             5  \\n\\n**\\n\\n           5-4   \n",
       "4           54.0      716    1:22.1            クビ  \\n\\n**\\n\\n           2-2   \n",
       "\n",
       "   last_time   odds  popular horse_weight tame_time tamer_id owner_id  \\\n",
       "0       37.7    7.6      3.0       454(0)      \\n\\n     1017   853002   \n",
       "1       37.6    5.1      2.0       478(0)      \\n\\n     1064   138800   \n",
       "2       37.6   10.2      4.0       474(0)      \\n\\n     1074   226800   \n",
       "3       38.9    1.8      1.0       494(0)      \\n\\n     1020   910006   \n",
       "4       39.2  125.0     14.0       440(0)      \\n\\n     1010   263006   \n",
       "\n",
       "                 date  \n",
       "0 2008-02-16 10:30:00  \n",
       "1 2008-02-16 10:30:00  \n",
       "2 2008-02-16 10:30:00  \n",
       "3 2008-02-16 10:30:00  \n",
       "4 2008-02-16 10:30:00  "
      ]
     },
     "execution_count": 37,
     "metadata": {},
     "output_type": "execute_result"
    }
   ],
   "source": [
    "# 何かとデータ分析で便利なので、レース日時情報をmerge\n",
    "race_tmp_df = race_df[[\"race_id\", \"date\"]]\n",
    "horse_df = pd.merge(horse_df, race_tmp_df, on='race_id')\n",
    "horse_df.head()"
   ]
  },
  {
   "cell_type": "markdown",
   "metadata": {},
   "source": [
    "### 使わなさそうな情報を削除\n",
    "- time_value, tame_time(プレミアム会員向けの情報)\n",
    "- goal_time_dif(自分で作成する)"
   ]
  },
  {
   "cell_type": "code",
   "execution_count": 38,
   "metadata": {},
   "outputs": [],
   "source": [
    "horse_df.drop(['time_value'], axis=1, inplace=True)\n",
    "horse_df.drop(['goal_time_dif'], axis=1, inplace=True)\n",
    "horse_df.drop(['tame_time'], axis=1, inplace=True)"
   ]
  },
  {
   "cell_type": "markdown",
   "metadata": {},
   "source": [
    "### race_id\n",
    "そのままでOK"
   ]
  },
  {
   "cell_type": "markdown",
   "metadata": {},
   "source": [
    "### rank\n",
    "> - 降着・・・\t「その走行妨害がなければ被害馬が加害馬に先着していた」と判断した場合、加害馬は被害馬の後ろに降着となります。\n",
    "> - 失格・・・\t「極めて悪質で他の騎手や馬に対する危険な行為によって、競走に重大な支障を生じさせた」と判断した場合、加害馬は失格となります。\n",
    "\n",
    "> 注記：被害馬が落馬や疾病発症等により競走を中止した場合には、上記の「失格」に該当しない限り着順は到達順位のとおり確定します。\n"
   ]
  },
  {
   "cell_type": "markdown",
   "metadata": {},
   "source": [
    "- 降格は降格フラグに分割、順位そのまま入れておく\n",
    "- 取・除はそもそも参加していないので削除\n",
    "- 失は順位が全く当てにならないので情報を削除\n",
    "- 中は最後まで到達していないが参加はしている。ひとまず20位にしておく。goal_timeが無いので、大きめに取る必要がある。\n",
    "- 12(再)は12で最後の模様。そのまま12にする"
   ]
  },
  {
   "cell_type": "code",
   "execution_count": 39,
   "metadata": {},
   "outputs": [
    {
     "data": {
      "text/plain": [
       "array(['1', '2', '3', '4', '5', '6', '7', '8', '9', '10', '11', '12',\n",
       "       '13', '14', '15', '16', '中', '除', '取', '15(降)', '10(降)', '8(降)',\n",
       "       '11(降)', '6(降)', '16(降)'], dtype=object)"
      ]
     },
     "execution_count": 39,
     "metadata": {},
     "output_type": "execute_result"
    }
   ],
   "source": [
    "horse_df['rank'].unique()"
   ]
  },
  {
   "cell_type": "code",
   "execution_count": 40,
   "metadata": {},
   "outputs": [],
   "source": [
    "# 降格を別へ\n",
    "is_down = horse_df[\"rank\"].str.extract('(\\(降\\))', expand=True)\n",
    "is_down.columns ={\"is_down\"}\n",
    "horse_df = pd.concat([horse_df, is_down], axis=1)\n",
    "\n",
    "horse_df.fillna(value={'is_down': 0}, inplace=True)\n",
    "horse_df['is_down'] = horse_df['is_down'].replace('(降)', 1)\n",
    "\n",
    "## 余分な文字を削除\n",
    "horse_df['rank'] = horse_df['rank'].apply(lambda x: x.replace(\"(降)\", \"\"))\n",
    "horse_df['rank'] = horse_df['rank'].apply(lambda x: x.replace(\"(再)\", \"\"))"
   ]
  },
  {
   "cell_type": "code",
   "execution_count": 41,
   "metadata": {},
   "outputs": [],
   "source": [
    "\"\"\"- 取・除はそもそも参加していないので削除\n",
    "- 失は順位が全く当てにならないので情報を削除\n",
    "- 中は最後まで到達していないが参加はしている。ひとまず20位にしておく\"\"\"\n",
    "\n",
    "horse_df = horse_df[(horse_df['rank'] != \"取\") & (horse_df['rank'] != \"除\") & (horse_df['rank'] != \"失\")]\n",
    "horse_df['rank'] = pd.DataFrame(horse_df['rank'].mask(horse_df['rank'] == \"中\", 20))"
   ]
  },
  {
   "cell_type": "code",
   "execution_count": 42,
   "metadata": {},
   "outputs": [
    {
     "data": {
      "text/plain": [
       "7     3048\n",
       "1     3047\n",
       "2     3046\n",
       "4     3046\n",
       "6     3042\n",
       "3     3039\n",
       "5     3038\n",
       "8     3032\n",
       "9     3026\n",
       "10    3008\n",
       "11    2962\n",
       "12    2885\n",
       "13    2776\n",
       "14    2629\n",
       "15    2418\n",
       "16    1956\n",
       "20     152\n",
       "Name: rank, dtype: int64"
      ]
     },
     "execution_count": 42,
     "metadata": {},
     "output_type": "execute_result"
    }
   ],
   "source": [
    "# 確認\n",
    "horse_df[\"rank\"].value_counts()"
   ]
  },
  {
   "cell_type": "markdown",
   "metadata": {},
   "source": [
    "### 姓と年齢をsplit"
   ]
  },
  {
   "cell_type": "code",
   "execution_count": 43,
   "metadata": {},
   "outputs": [
    {
     "data": {
      "text/plain": [
       "array(['牝3', '牡3', 'セ4', '牡4', '牡5', '牝5', '牝4', '牝6', '牡6', '牝7', '牡7',\n",
       "       '牡8', 'セ3', '牝2', '牡2', 'セ8', 'セ7', 'セ2', '牝8', 'セ6', 'セ5', '牡9',\n",
       "       '牡12', '牡10', 'セ9', 'セ10', '牡11'], dtype=object)"
      ]
     },
     "execution_count": 43,
     "metadata": {},
     "output_type": "execute_result"
    }
   ],
   "source": [
    "horse_df['sex_and_age'].unique()"
   ]
  },
  {
   "cell_type": "code",
   "execution_count": 44,
   "metadata": {},
   "outputs": [],
   "source": [
    "# 性別を別へ\n",
    "\n",
    "is_senba = horse_df[\"sex_and_age\"].str.extract('(セ)', expand=True)\n",
    "is_senba.columns ={\"is_senba\"}\n",
    "horse_df = pd.concat([horse_df, is_senba], axis=1)\n",
    "\n",
    "is_mesu = horse_df[\"sex_and_age\"].str.extract('(牝)', expand=True)\n",
    "is_mesu.columns ={\"is_mesu\"}\n",
    "horse_df = pd.concat([horse_df, is_mesu], axis=1)\n",
    "\n",
    "is_osu = horse_df[\"sex_and_age\"].str.extract('(牡)', expand=True)\n",
    "is_osu.columns ={\"is_osu\"}\n",
    "horse_df = pd.concat([horse_df, is_osu], axis=1)\n"
   ]
  },
  {
   "cell_type": "code",
   "execution_count": 45,
   "metadata": {},
   "outputs": [],
   "source": [
    "horse_df.fillna(value={'is_osu': 0}, inplace=True)\n",
    "horse_df['is_osu'] = horse_df['is_osu'].replace('牡', 1)\n",
    "horse_df.fillna(value={'is_mesu': 0}, inplace=True)\n",
    "horse_df['is_mesu'] = horse_df['is_mesu'].replace('牝', 1)\n",
    "horse_df.fillna(value={'is_senba': 0}, inplace=True)\n",
    "horse_df['is_senba'] = horse_df['is_senba'].replace('セ', 1)\n",
    "## 余分な文字を削除\n",
    "horse_df['sex_and_age'] = horse_df['sex_and_age'].str.strip(\"牝牡セ\")\n",
    "horse_df['sex_and_age'] = horse_df['sex_and_age'].astype(int)"
   ]
  },
  {
   "cell_type": "code",
   "execution_count": 46,
   "metadata": {},
   "outputs": [],
   "source": [
    "horse_df = horse_df.rename(columns={'sex_and_age': 'age'})"
   ]
  },
  {
   "cell_type": "markdown",
   "metadata": {},
   "source": [
    "## goal_timeをtimedelta型にしてから秒に(last_timeも)"
   ]
  },
  {
   "cell_type": "code",
   "execution_count": 47,
   "metadata": {},
   "outputs": [
    {
     "name": "stdout",
     "output_type": "stream",
     "text": [
      "152\n",
      "152\n"
     ]
    }
   ],
   "source": [
    "# nullになるのは、レースで「中」になった馬\n",
    "print(horse_df['goal_time'].isnull().sum())\n",
    "print(horse_df['last_time'].isnull().sum())"
   ]
  },
  {
   "cell_type": "code",
   "execution_count": 48,
   "metadata": {},
   "outputs": [],
   "source": [
    "horse_df['goal_time'] = pd.to_datetime(horse_df['goal_time'], format='%M:%S.%f') - pd.to_datetime('00:00.0', format='%M:%S.%f')\n",
    "horse_df['goal_time'] = horse_df['goal_time'].dt.total_seconds()"
   ]
  },
  {
   "cell_type": "code",
   "execution_count": 49,
   "metadata": {},
   "outputs": [],
   "source": [
    "# 欠損値を最大値で埋める\n",
    "horse_df.fillna(value={'goal_time': horse_df['goal_time'].max()}, inplace=True)\n",
    "horse_df.fillna(value={'last_time': horse_df['last_time'].max()}, inplace=True)"
   ]
  },
  {
   "cell_type": "code",
   "execution_count": 50,
   "metadata": {},
   "outputs": [
    {
     "data": {
      "text/plain": [
       "race_id                  object\n",
       "rank                     object\n",
       "frame_number              int64\n",
       "horse_number              int64\n",
       "horse_id                 object\n",
       "age                       int64\n",
       "burden_weight           float64\n",
       "rider_id                 object\n",
       "goal_time               float64\n",
       "half_way_rank            object\n",
       "last_time               float64\n",
       "odds                     object\n",
       "popular                 float64\n",
       "horse_weight             object\n",
       "tamer_id                 object\n",
       "owner_id                 object\n",
       "date             datetime64[ns]\n",
       "is_down                   int64\n",
       "is_senba                  int64\n",
       "is_mesu                   int64\n",
       "is_osu                    int64\n",
       "dtype: object"
      ]
     },
     "execution_count": 50,
     "metadata": {},
     "output_type": "execute_result"
    }
   ],
   "source": [
    "horse_df.dtypes"
   ]
  },
  {
   "cell_type": "markdown",
   "metadata": {},
   "source": [
    "### goal_timeとレース距離から、平均速度を求める"
   ]
  },
  {
   "cell_type": "code",
   "execution_count": 51,
   "metadata": {},
   "outputs": [],
   "source": [
    "# レース距離情報をmerge\n",
    "race_tmp_df = race_df[[\"race_id\", \"distance\"]]\n",
    "horse_df = pd.merge(horse_df, race_tmp_df, on='race_id')"
   ]
  },
  {
   "cell_type": "code",
   "execution_count": 52,
   "metadata": {},
   "outputs": [],
   "source": [
    "horse_df[\"distance\"] = horse_df[\"distance\"].astype(int)\n",
    "horse_df[\"avg_velocity\"] = horse_df[\"distance\"]/horse_df[\"goal_time\"]\n"
   ]
  },
  {
   "cell_type": "code",
   "execution_count": null,
   "metadata": {},
   "outputs": [],
   "source": []
  },
  {
   "cell_type": "markdown",
   "metadata": {},
   "source": [
    "### half_way_rank\n",
    "splitして平均値を保持する（レースによってまちまちなので）"
   ]
  },
  {
   "cell_type": "code",
   "execution_count": 53,
   "metadata": {},
   "outputs": [],
   "source": [
    "from statistics import mean\n",
    "horse_df[\"half_way_rank\"] = horse_df[\"half_way_rank\"].apply(lambda x: mean([float(n) for n in (x.split(\"-\"))]) if type(x) is str else float(x) )"
   ]
  },
  {
   "cell_type": "code",
   "execution_count": 54,
   "metadata": {},
   "outputs": [
    {
     "data": {
      "text/plain": [
       "0"
      ]
     },
     "execution_count": 54,
     "metadata": {},
     "output_type": "execute_result"
    }
   ],
   "source": [
    "horse_df[horse_df[\"rank\"] == 20] = horse_df[horse_df[\"rank\"] == 20].fillna({'half_way_rank': 20})\n",
    "horse_df[\"half_way_rank\"] = horse_df[\"half_way_rank\"].fillna(horse_df['half_way_rank'].mean())\n",
    "horse_df[\"half_way_rank\"].isnull().sum()"
   ]
  },
  {
   "cell_type": "code",
   "execution_count": 55,
   "metadata": {},
   "outputs": [],
   "source": [
    "horse_df[\"half_way_rank\"] = horse_df[\"half_way_rank\"].astype(float)"
   ]
  },
  {
   "cell_type": "markdown",
   "metadata": {},
   "source": [
    "### horse_weight と diff の分離\n",
    "「計不」は平均で穴埋め"
   ]
  },
  {
   "cell_type": "code",
   "execution_count": 56,
   "metadata": {},
   "outputs": [],
   "source": [
    "horse_weight_dif = horse_df[\"horse_weight\"].str.extract('\\(([-|+]?\\d*)\\)', expand=True)\n",
    "horse_weight_dif.columns ={\"horse_weight_dif\"}\n",
    "\n",
    "horse_df = pd.concat([horse_df, horse_weight_dif], axis=1)\n",
    "\n",
    "horse_df['horse_weight'] = horse_df['horse_weight'].replace('\\(([-|+]?\\d*)\\)', '', regex=True)\n",
    "\n"
   ]
  },
  {
   "cell_type": "code",
   "execution_count": 57,
   "metadata": {},
   "outputs": [],
   "source": [
    "horse_df['horse_weight'] = horse_df['horse_weight'].replace('計不', np.nan)\n",
    "horse_df['horse_weight'] = horse_df['horse_weight'].astype(float)\n",
    "horse_df['horse_weight_dif'] = horse_df['horse_weight_dif'].astype(float)"
   ]
  },
  {
   "cell_type": "code",
   "execution_count": 58,
   "metadata": {},
   "outputs": [],
   "source": [
    "# 計不 の horse_idを探し、馬ごとの平均値で穴埋め\n",
    "no_records = horse_df[horse_df['horse_weight'].isnull()]['horse_id']\n",
    "for no_record_id in no_records:\n",
    "    horse_df.loc[(horse_df['horse_id'] == no_record_id)&(horse_df['horse_weight'].isnull()), 'horse_weight'] = horse_df[horse_df['horse_id'] == no_record_id]['horse_weight'].mean() \n",
    "    horse_df.loc[(horse_df['horse_id'] == no_record_id)&(horse_df['horse_weight_dif'].isnull()), 'horse_weight_dif'] = 0 \n",
    "    "
   ]
  },
  {
   "cell_type": "code",
   "execution_count": 59,
   "metadata": {},
   "outputs": [
    {
     "data": {
      "text/plain": [
       "race_id                     object\n",
       "rank                        object\n",
       "frame_number                 int64\n",
       "horse_number                 int64\n",
       "horse_id                    object\n",
       "age                          int64\n",
       "burden_weight              float64\n",
       "rider_id                    object\n",
       "goal_time                  float64\n",
       "half_way_rank              float64\n",
       "last_time                  float64\n",
       "odds                        object\n",
       "popular                    float64\n",
       "horse_weight               float64\n",
       "tamer_id                    object\n",
       "owner_id                    object\n",
       "date                datetime64[ns]\n",
       "is_down                      int64\n",
       "is_senba                     int64\n",
       "is_mesu                      int64\n",
       "is_osu                       int64\n",
       "distance                     int64\n",
       "avg_velocity               float64\n",
       "horse_weight_dif           float64\n",
       "dtype: object"
      ]
     },
     "execution_count": 59,
     "metadata": {},
     "output_type": "execute_result"
    }
   ],
   "source": [
    "horse_df.dtypes"
   ]
  },
  {
   "cell_type": "markdown",
   "metadata": {},
   "source": [
    "### burden_weight, horse_weight の比率を追加"
   ]
  },
  {
   "cell_type": "code",
   "execution_count": 60,
   "metadata": {},
   "outputs": [],
   "source": [
    "horse_df['burden_weight_rate'] = horse_df['burden_weight']/horse_df['horse_weight']"
   ]
  },
  {
   "cell_type": "markdown",
   "metadata": {},
   "source": [
    "### last_time\n",
    "とりあえず放置するが、外れ値の扱いを考えたほうが良さそう。"
   ]
  },
  {
   "cell_type": "code",
   "execution_count": 61,
   "metadata": {},
   "outputs": [
    {
     "data": {
      "text/plain": [
       "<matplotlib.axes._subplots.AxesSubplot at 0x10f8fa5d0>"
      ]
     },
     "execution_count": 61,
     "metadata": {},
     "output_type": "execute_result"
    },
    {
     "data": {
      "image/png": "[encoded data removed]",
      "text/plain": [
       "<Figure size 1152x288 with 1 Axes>"
      ]
     },
     "metadata": {
      "needs_background": "light"
     },
     "output_type": "display_data"
    }
   ],
   "source": [
    "horse_df.plot(kind='hist', y='last_time' , bins=50, figsize=(16,4), alpha=0.5)"
   ]
  },
  {
   "cell_type": "markdown",
   "metadata": {},
   "source": [
    "### odds"
   ]
  },
  {
   "cell_type": "code",
   "execution_count": 62,
   "metadata": {},
   "outputs": [],
   "source": [
    "horse_df['odds']= horse_df['odds'].astype(float)"
   ]
  },
  {
   "cell_type": "code",
   "execution_count": null,
   "metadata": {},
   "outputs": [],
   "source": []
  },
  {
   "cell_type": "markdown",
   "metadata": {},
   "source": [
    "### horse dataの保存"
   ]
  },
  {
   "cell_type": "code",
   "execution_count": 63,
   "metadata": {
    "scrolled": true
   },
   "outputs": [
    {
     "name": "stdout",
     "output_type": "stream",
     "text": [
      "race_id                       object\n",
      "rank                          object\n",
      "frame_number                   int64\n",
      "horse_number                   int64\n",
      "horse_id                      object\n",
      "age                            int64\n",
      "burden_weight                float64\n",
      "rider_id                      object\n",
      "goal_time                    float64\n",
      "half_way_rank                float64\n",
      "last_time                    float64\n",
      "odds                         float64\n",
      "popular                      float64\n",
      "horse_weight                 float64\n",
      "tamer_id                      object\n",
      "owner_id                      object\n",
      "date                  datetime64[ns]\n",
      "is_down                        int64\n",
      "is_senba                       int64\n",
      "is_mesu                        int64\n",
      "is_osu                         int64\n",
      "distance                       int64\n",
      "avg_velocity                 float64\n",
      "horse_weight_dif             float64\n",
      "burden_weight_rate           float64\n",
      "dtype: object\n"
     ]
    },
    {
     "data": {
      "text/html": [
       "<div>\n",
       "<style scoped>\n",
       "    .dataframe tbody tr th:only-of-type {\n",
       "        vertical-align: middle;\n",
       "    }\n",
       "\n",
       "    .dataframe tbody tr th {\n",
       "        vertical-align: top;\n",
       "    }\n",
       "\n",
       "    .dataframe thead th {\n",
       "        text-align: right;\n",
       "    }\n",
       "</style>\n",
       "<table border=\"1\" class=\"dataframe\">\n",
       "  <thead>\n",
       "    <tr style=\"text-align: right;\">\n",
       "      <th></th>\n",
       "      <th>race_id</th>\n",
       "      <th>rank</th>\n",
       "      <th>frame_number</th>\n",
       "      <th>horse_number</th>\n",
       "      <th>horse_id</th>\n",
       "      <th>age</th>\n",
       "      <th>burden_weight</th>\n",
       "      <th>rider_id</th>\n",
       "      <th>goal_time</th>\n",
       "      <th>half_way_rank</th>\n",
       "      <th>last_time</th>\n",
       "      <th>odds</th>\n",
       "      <th>popular</th>\n",
       "      <th>horse_weight</th>\n",
       "      <th>tamer_id</th>\n",
       "      <th>owner_id</th>\n",
       "      <th>date</th>\n",
       "      <th>is_down</th>\n",
       "      <th>is_senba</th>\n",
       "      <th>is_mesu</th>\n",
       "      <th>is_osu</th>\n",
       "      <th>distance</th>\n",
       "      <th>avg_velocity</th>\n",
       "      <th>horse_weight_dif</th>\n",
       "      <th>burden_weight_rate</th>\n",
       "    </tr>\n",
       "  </thead>\n",
       "  <tbody>\n",
       "    <tr>\n",
       "      <th>0</th>\n",
       "      <td>200805010502</td>\n",
       "      <td>1</td>\n",
       "      <td>3</td>\n",
       "      <td>4</td>\n",
       "      <td>2005105185</td>\n",
       "      <td>3</td>\n",
       "      <td>54.0</td>\n",
       "      <td>1085</td>\n",
       "      <td>80.6</td>\n",
       "      <td>1.0</td>\n",
       "      <td>37.7</td>\n",
       "      <td>7.6</td>\n",
       "      <td>3.0</td>\n",
       "      <td>454.0</td>\n",
       "      <td>1017</td>\n",
       "      <td>853002</td>\n",
       "      <td>2008-02-16 10:30:00</td>\n",
       "      <td>0</td>\n",
       "      <td>0</td>\n",
       "      <td>1</td>\n",
       "      <td>0</td>\n",
       "      <td>1300</td>\n",
       "      <td>16.129032</td>\n",
       "      <td>0.0</td>\n",
       "      <td>0.118943</td>\n",
       "    </tr>\n",
       "    <tr>\n",
       "      <th>1</th>\n",
       "      <td>200805010502</td>\n",
       "      <td>2</td>\n",
       "      <td>6</td>\n",
       "      <td>10</td>\n",
       "      <td>2005106076</td>\n",
       "      <td>3</td>\n",
       "      <td>54.0</td>\n",
       "      <td>663</td>\n",
       "      <td>80.6</td>\n",
       "      <td>2.5</td>\n",
       "      <td>37.6</td>\n",
       "      <td>5.1</td>\n",
       "      <td>2.0</td>\n",
       "      <td>478.0</td>\n",
       "      <td>1064</td>\n",
       "      <td>138800</td>\n",
       "      <td>2008-02-16 10:30:00</td>\n",
       "      <td>0</td>\n",
       "      <td>0</td>\n",
       "      <td>1</td>\n",
       "      <td>0</td>\n",
       "      <td>1300</td>\n",
       "      <td>16.129032</td>\n",
       "      <td>0.0</td>\n",
       "      <td>0.112971</td>\n",
       "    </tr>\n",
       "    <tr>\n",
       "      <th>2</th>\n",
       "      <td>200805010502</td>\n",
       "      <td>3</td>\n",
       "      <td>8</td>\n",
       "      <td>14</td>\n",
       "      <td>2005102725</td>\n",
       "      <td>3</td>\n",
       "      <td>56.0</td>\n",
       "      <td>684</td>\n",
       "      <td>81.2</td>\n",
       "      <td>7.5</td>\n",
       "      <td>37.6</td>\n",
       "      <td>10.2</td>\n",
       "      <td>4.0</td>\n",
       "      <td>474.0</td>\n",
       "      <td>1074</td>\n",
       "      <td>226800</td>\n",
       "      <td>2008-02-16 10:30:00</td>\n",
       "      <td>0</td>\n",
       "      <td>0</td>\n",
       "      <td>0</td>\n",
       "      <td>1</td>\n",
       "      <td>1300</td>\n",
       "      <td>16.009852</td>\n",
       "      <td>0.0</td>\n",
       "      <td>0.118143</td>\n",
       "    </tr>\n",
       "  </tbody>\n",
       "</table>\n",
       "</div>"
      ],
      "text/plain": [
       "        race_id rank  frame_number  horse_number    horse_id  age  \\\n",
       "0  200805010502    1             3             4  2005105185    3   \n",
       "1  200805010502    2             6            10  2005106076    3   \n",
       "2  200805010502    3             8            14  2005102725    3   \n",
       "\n",
       "   burden_weight rider_id  goal_time  half_way_rank  last_time  odds  popular  \\\n",
       "0           54.0     1085       80.6            1.0       37.7   7.6      3.0   \n",
       "1           54.0      663       80.6            2.5       37.6   5.1      2.0   \n",
       "2           56.0      684       81.2            7.5       37.6  10.2      4.0   \n",
       "\n",
       "   horse_weight tamer_id owner_id                date  is_down  is_senba  \\\n",
       "0         454.0     1017   853002 2008-02-16 10:30:00        0         0   \n",
       "1         478.0     1064   138800 2008-02-16 10:30:00        0         0   \n",
       "2         474.0     1074   226800 2008-02-16 10:30:00        0         0   \n",
       "\n",
       "   is_mesu  is_osu  distance  avg_velocity  horse_weight_dif  \\\n",
       "0        1       0      1300     16.129032               0.0   \n",
       "1        1       0      1300     16.129032               0.0   \n",
       "2        0       1      1300     16.009852               0.0   \n",
       "\n",
       "   burden_weight_rate  \n",
       "0            0.118943  \n",
       "1            0.112971  \n",
       "2            0.118143  "
      ]
     },
     "execution_count": 63,
     "metadata": {},
     "output_type": "execute_result"
    }
   ],
   "source": [
    "print(horse_df.dtypes)\n",
    "horse_df.head(3)"
   ]
  },
  {
   "cell_type": "code",
   "execution_count": 65,
   "metadata": {},
   "outputs": [],
   "source": [
    "horse_df.to_csv(\"csv_cleaned/horse_data.csv\", index=False )"
   ]
  },
  {
   "cell_type": "code",
   "execution_count": null,
   "metadata": {},
   "outputs": [],
   "source": []
  },
  {
   "cell_type": "markdown",
   "metadata": {},
   "source": [
    "## sire csv"
   ]
  },
  {
   "cell_type": "code",
   "execution_count": 66,
   "metadata": {},
   "outputs": [],
   "source": [
    "sire_df = pd.read_csv(\"./csv/sire.csv\", sep=\",\")\n",
    "sire_df.head(2)"
   ]
  },
  {
   "cell_type": "code",
   "execution_count": 68,
   "metadata": {},
   "outputs": [],
   "source": [
    "sire_df.to_csv(\"csv_cleaned/sire.csv\", index=False )"
   ]
  },
  {
   "cell_type": "code",
   "execution_count": null,
   "metadata": {},
   "outputs": [],
   "source": []
  },
  {
   "cell_type": "markdown",
   "metadata": {},
   "source": [
    "## ped id csv"
   ]
  },
  {
   "cell_type": "code",
   "execution_count": 69,
   "metadata": {},
   "outputs": [
    {
     "data": {
      "text/html": [
       "<div>\n",
       "<style scoped>\n",
       "    .dataframe tbody tr th:only-of-type {\n",
       "        vertical-align: middle;\n",
       "    }\n",
       "\n",
       "    .dataframe tbody tr th {\n",
       "        vertical-align: top;\n",
       "    }\n",
       "\n",
       "    .dataframe thead th {\n",
       "        text-align: right;\n",
       "    }\n",
       "</style>\n",
       "<table border=\"1\" class=\"dataframe\">\n",
       "  <thead>\n",
       "    <tr style=\"text-align: right;\">\n",
       "      <th></th>\n",
       "      <th>horse_id</th>\n",
       "      <th>f_id</th>\n",
       "      <th>mf_id</th>\n",
       "      <th>mmf_id</th>\n",
       "      <th>fmf_id</th>\n",
       "    </tr>\n",
       "  </thead>\n",
       "  <tbody>\n",
       "    <tr>\n",
       "      <th>0</th>\n",
       "      <td>2015100929</td>\n",
       "      <td>2001103890</td>\n",
       "      <td>000a0022a2</td>\n",
       "      <td>000a001a8f</td>\n",
       "      <td>000a001d7e</td>\n",
       "    </tr>\n",
       "    <tr>\n",
       "      <th>1</th>\n",
       "      <td>2007105538</td>\n",
       "      <td>1995103211</td>\n",
       "      <td>1989109102</td>\n",
       "      <td>000a0003bb</td>\n",
       "      <td>000a0003bd</td>\n",
       "    </tr>\n",
       "  </tbody>\n",
       "</table>\n",
       "</div>"
      ],
      "text/plain": [
       "     horse_id        f_id       mf_id      mmf_id      fmf_id\n",
       "0  2015100929  2001103890  000a0022a2  000a001a8f  000a001d7e\n",
       "1  2007105538  1995103211  1989109102  000a0003bb  000a0003bd"
      ]
     },
     "execution_count": 69,
     "metadata": {},
     "output_type": "execute_result"
    }
   ],
   "source": [
    "ped_id_df = pd.read_csv(\"./csv/ped_id.csv\", sep=\",\")\n",
    "ped_id_df.head(2)"
   ]
  },
  {
   "cell_type": "code",
   "execution_count": 72,
   "metadata": {},
   "outputs": [
    {
     "data": {
      "text/plain": [
       "horse_id    0\n",
       "f_id        0\n",
       "mf_id       4\n",
       "mmf_id      4\n",
       "fmf_id      0\n",
       "dtype: int64"
      ]
     },
     "execution_count": 72,
     "metadata": {},
     "output_type": "execute_result"
    }
   ],
   "source": [
    "ped_id_df.isnull().sum()"
   ]
  },
  {
   "cell_type": "code",
   "execution_count": 73,
   "metadata": {},
   "outputs": [],
   "source": [
    "ped_id_df.to_csv(\"csv_cleaned/ped_id.csv\", index=False )"
   ]
  },
  {
   "cell_type": "code",
   "execution_count": null,
   "metadata": {},
   "outputs": [],
   "source": []
  }
 ],
 "metadata": {
  "kernelspec": {
   "display_name": "Python 3",
   "language": "python",
   "name": "python3"
  },
  "language_info": {
   "codemirror_mode": {
    "name": "ipython",
    "version": 3
   },
   "file_extension": ".py",
   "mimetype": "text/x-python",
   "name": "python",
   "nbconvert_exporter": "python",
   "pygments_lexer": "ipython3",
   "version": "3.7.5"
  }
 },
 "nbformat": 4,
 "nbformat_minor": 2
}
