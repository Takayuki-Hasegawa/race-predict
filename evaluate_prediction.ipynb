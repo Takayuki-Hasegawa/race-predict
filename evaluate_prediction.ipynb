{
 "cells": [
  {
   "cell_type": "markdown",
   "metadata": {},
   "source": [
    "# model の回収率のシミュレート"
   ]
  },
  {
   "cell_type": "code",
   "execution_count": 111,
   "metadata": {},
   "outputs": [],
   "source": [
    "import numpy as np\n",
    "import pandas as pd\n",
    "#最大表示列数の指定\n",
    "pd.set_option('display.max_columns', 300)\n",
    "\n",
    "%matplotlib inline \n",
    "import matplotlib.pyplot as plt\n",
    "\n",
    "plt.style.use('ggplot') "
   ]
  },
  {
   "cell_type": "code",
   "execution_count": 112,
   "metadata": {},
   "outputs": [],
   "source": [
    "race_df = pd.read_csv(\"./csv_cleaned/race_data.csv\", sep=\",\")\n",
    "horse_df = pd.read_csv(\"./csv_cleaned/horse_data.csv\", sep=\",\")"
   ]
  },
  {
   "cell_type": "code",
   "execution_count": 113,
   "metadata": {},
   "outputs": [],
   "source": [
    "import pickle\n",
    "def pickle_dump(obj, path):\n",
    "    with open(path, mode='wb') as f:\n",
    "        pickle.dump(obj, f)\n",
    "\n",
    "\n",
    "def pickle_load(path):\n",
    "    with open(path, mode='rb') as f:\n",
    "        data = pickle.load(f)\n",
    "        return data\n"
   ]
  },
  {
   "cell_type": "code",
   "execution_count": 114,
   "metadata": {},
   "outputs": [
    {
     "data": {
      "text/html": [
       "<div>\n",
       "<style scoped>\n",
       "    .dataframe tbody tr th:only-of-type {\n",
       "        vertical-align: middle;\n",
       "    }\n",
       "\n",
       "    .dataframe tbody tr th {\n",
       "        vertical-align: top;\n",
       "    }\n",
       "\n",
       "    .dataframe thead th {\n",
       "        text-align: right;\n",
       "    }\n",
       "</style>\n",
       "<table border=\"1\" class=\"dataframe\">\n",
       "  <thead>\n",
       "    <tr style=\"text-align: right;\">\n",
       "      <th></th>\n",
       "      <th>race_id</th>\n",
       "      <th>frame_number</th>\n",
       "      <th>horse_number</th>\n",
       "      <th>age</th>\n",
       "      <th>burden_weight</th>\n",
       "      <th>horse_weight</th>\n",
       "      <th>date</th>\n",
       "      <th>is_senba</th>\n",
       "      <th>is_mesu</th>\n",
       "      <th>is_osu</th>\n",
       "      <th>distance</th>\n",
       "      <th>horse_weight_dif</th>\n",
       "      <th>burden_weight_rate</th>\n",
       "      <th>ground_status</th>\n",
       "      <th>total_horse_number</th>\n",
       "      <th>weather_rain</th>\n",
       "      <th>weather_snow</th>\n",
       "      <th>pre_date_diff</th>\n",
       "      <th>is_rider_same</th>\n",
       "      <th>is_tamer_same</th>\n",
       "      <th>is_owner_same</th>\n",
       "      <th>rank_1</th>\n",
       "      <th>frame_number_1</th>\n",
       "      <th>age_1</th>\n",
       "      <th>burden_weight_1</th>\n",
       "      <th>goal_time_1</th>\n",
       "      <th>half_way_rank_1</th>\n",
       "      <th>last_time_1</th>\n",
       "      <th>horse_weight_1</th>\n",
       "      <th>is_down_1</th>\n",
       "      <th>distance_1</th>\n",
       "      <th>avg_velocity_1</th>\n",
       "      <th>horse_weight_dif_1</th>\n",
       "      <th>burden_weight_rate_1</th>\n",
       "      <th>ground_status_1</th>\n",
       "      <th>total_horse_number_1</th>\n",
       "      <th>weather_rain_1</th>\n",
       "      <th>weather_snow_1</th>\n",
       "      <th>pre_date_diff_1</th>\n",
       "      <th>is_rider_same_1</th>\n",
       "      <th>is_tamer_same_1</th>\n",
       "      <th>is_owner_same_1</th>\n",
       "      <th>interval_date_1</th>\n",
       "      <th>rank_2</th>\n",
       "      <th>frame_number_2</th>\n",
       "      <th>age_2</th>\n",
       "      <th>burden_weight_2</th>\n",
       "      <th>goal_time_2</th>\n",
       "      <th>half_way_rank_2</th>\n",
       "      <th>last_time_2</th>\n",
       "      <th>horse_weight_2</th>\n",
       "      <th>is_down_2</th>\n",
       "      <th>distance_2</th>\n",
       "      <th>avg_velocity_2</th>\n",
       "      <th>horse_weight_dif_2</th>\n",
       "      <th>burden_weight_rate_2</th>\n",
       "      <th>ground_status_2</th>\n",
       "      <th>total_horse_number_2</th>\n",
       "      <th>weather_rain_2</th>\n",
       "      <th>weather_snow_2</th>\n",
       "      <th>pre_date_diff_2</th>\n",
       "      <th>is_rider_same_2</th>\n",
       "      <th>is_tamer_same_2</th>\n",
       "      <th>is_owner_same_2</th>\n",
       "      <th>interval_date_2</th>\n",
       "      <th>rank_3</th>\n",
       "      <th>frame_number_3</th>\n",
       "      <th>age_3</th>\n",
       "      <th>burden_weight_3</th>\n",
       "      <th>goal_time_3</th>\n",
       "      <th>half_way_rank_3</th>\n",
       "      <th>last_time_3</th>\n",
       "      <th>horse_weight_3</th>\n",
       "      <th>is_down_3</th>\n",
       "      <th>distance_3</th>\n",
       "      <th>avg_velocity_3</th>\n",
       "      <th>horse_weight_dif_3</th>\n",
       "      <th>burden_weight_rate_3</th>\n",
       "      <th>ground_status_3</th>\n",
       "      <th>total_horse_number_3</th>\n",
       "      <th>weather_rain_3</th>\n",
       "      <th>weather_snow_3</th>\n",
       "      <th>pre_date_diff_3</th>\n",
       "      <th>is_rider_same_3</th>\n",
       "      <th>is_tamer_same_3</th>\n",
       "      <th>is_owner_same_3</th>\n",
       "      <th>interval_date_3</th>\n",
       "      <th>rank_f</th>\n",
       "      <th>win_horse_rate</th>\n",
       "      <th>win_times_rate</th>\n",
       "      <th>win_jusyo_rate</th>\n",
       "      <th>win_special_rate</th>\n",
       "      <th>win_plane_rate</th>\n",
       "      <th>win_turf_rate</th>\n",
       "      <th>win_dirt_rate</th>\n",
       "      <th>EI</th>\n",
       "      <th>rank_mf</th>\n",
       "      <th>win_horse_rate_mf</th>\n",
       "      <th>win_times_rate_mf</th>\n",
       "      <th>win_jusyo_rate_mf</th>\n",
       "      <th>win_special_rate_mf</th>\n",
       "      <th>win_plane_rate_mf</th>\n",
       "      <th>win_turf_rate_mf</th>\n",
       "      <th>win_dirt_rate_mf</th>\n",
       "      <th>EI_mf</th>\n",
       "      <th>rank_mmf</th>\n",
       "      <th>win_horse_rate_mmf</th>\n",
       "      <th>win_times_rate_mmf</th>\n",
       "      <th>win_jusyo_rate_mmf</th>\n",
       "      <th>win_special_rate_mmf</th>\n",
       "      <th>win_plane_rate_mmf</th>\n",
       "      <th>win_turf_rate_mmf</th>\n",
       "      <th>win_dirt_rate_mmf</th>\n",
       "      <th>EI_mmf</th>\n",
       "      <th>rank_fmf</th>\n",
       "      <th>win_horse_rate_fmf</th>\n",
       "      <th>win_times_rate_fmf</th>\n",
       "      <th>win_jusyo_rate_fmf</th>\n",
       "      <th>win_special_rate_fmf</th>\n",
       "      <th>win_plane_rate_fmf</th>\n",
       "      <th>win_turf_rate_fmf</th>\n",
       "      <th>win_dirt_rate_fmf</th>\n",
       "      <th>EI_fmf</th>\n",
       "      <th>is_tansyo</th>\n",
       "      <th>is_hukusyo</th>\n",
       "      <th>rank_category</th>\n",
       "      <th>predict_0_prob</th>\n",
       "    </tr>\n",
       "  </thead>\n",
       "  <tbody>\n",
       "    <tr>\n",
       "      <th>0</th>\n",
       "      <td>201905010101</td>\n",
       "      <td>1.0</td>\n",
       "      <td>1.0</td>\n",
       "      <td>3.0</td>\n",
       "      <td>56.0</td>\n",
       "      <td>534.0</td>\n",
       "      <td>2019-01-26 10:10:00</td>\n",
       "      <td>0.0</td>\n",
       "      <td>0.0</td>\n",
       "      <td>1.0</td>\n",
       "      <td>1300.0</td>\n",
       "      <td>0.0</td>\n",
       "      <td>0.104869</td>\n",
       "      <td>1.0</td>\n",
       "      <td>16.0</td>\n",
       "      <td>0.0</td>\n",
       "      <td>0.0</td>\n",
       "      <td>109.0</td>\n",
       "      <td>1.0</td>\n",
       "      <td>1.0</td>\n",
       "      <td>1.0</td>\n",
       "      <td>16.0</td>\n",
       "      <td>6.0</td>\n",
       "      <td>2.0</td>\n",
       "      <td>55.0</td>\n",
       "      <td>87.9</td>\n",
       "      <td>16.0</td>\n",
       "      <td>39.3</td>\n",
       "      <td>516.0</td>\n",
       "      <td>0.0</td>\n",
       "      <td>1300.0</td>\n",
       "      <td>14.789534</td>\n",
       "      <td>0.0</td>\n",
       "      <td>0.106589</td>\n",
       "      <td>1.0</td>\n",
       "      <td>16.0</td>\n",
       "      <td>0.0</td>\n",
       "      <td>0.0</td>\n",
       "      <td>NaN</td>\n",
       "      <td>0.0</td>\n",
       "      <td>0.0</td>\n",
       "      <td>0.0</td>\n",
       "      <td>109.0</td>\n",
       "      <td>NaN</td>\n",
       "      <td>NaN</td>\n",
       "      <td>NaN</td>\n",
       "      <td>NaN</td>\n",
       "      <td>NaN</td>\n",
       "      <td>NaN</td>\n",
       "      <td>NaN</td>\n",
       "      <td>NaN</td>\n",
       "      <td>NaN</td>\n",
       "      <td>NaN</td>\n",
       "      <td>NaN</td>\n",
       "      <td>NaN</td>\n",
       "      <td>NaN</td>\n",
       "      <td>NaN</td>\n",
       "      <td>NaN</td>\n",
       "      <td>NaN</td>\n",
       "      <td>NaN</td>\n",
       "      <td>NaN</td>\n",
       "      <td>NaN</td>\n",
       "      <td>NaN</td>\n",
       "      <td>NaN</td>\n",
       "      <td>NaN</td>\n",
       "      <td>NaN</td>\n",
       "      <td>NaN</td>\n",
       "      <td>NaN</td>\n",
       "      <td>NaN</td>\n",
       "      <td>NaN</td>\n",
       "      <td>NaN</td>\n",
       "      <td>NaN</td>\n",
       "      <td>NaN</td>\n",
       "      <td>NaN</td>\n",
       "      <td>NaN</td>\n",
       "      <td>NaN</td>\n",
       "      <td>NaN</td>\n",
       "      <td>NaN</td>\n",
       "      <td>NaN</td>\n",
       "      <td>NaN</td>\n",
       "      <td>NaN</td>\n",
       "      <td>NaN</td>\n",
       "      <td>NaN</td>\n",
       "      <td>NaN</td>\n",
       "      <td>NaN</td>\n",
       "      <td>NaN</td>\n",
       "      <td>NaN</td>\n",
       "      <td>54.0</td>\n",
       "      <td>0.412556</td>\n",
       "      <td>0.082456</td>\n",
       "      <td>0.016949</td>\n",
       "      <td>0.067293</td>\n",
       "      <td>0.086607</td>\n",
       "      <td>0.033520</td>\n",
       "      <td>0.087851</td>\n",
       "      <td>0.92</td>\n",
       "      <td>16.0</td>\n",
       "      <td>0.469681</td>\n",
       "      <td>0.096372</td>\n",
       "      <td>0.090164</td>\n",
       "      <td>0.077644</td>\n",
       "      <td>0.104321</td>\n",
       "      <td>0.095192</td>\n",
       "      <td>0.099121</td>\n",
       "      <td>1.42</td>\n",
       "      <td>586.0</td>\n",
       "      <td>0.700000</td>\n",
       "      <td>0.106335</td>\n",
       "      <td>0.0</td>\n",
       "      <td>0.117978</td>\n",
       "      <td>0.106122</td>\n",
       "      <td>0.057143</td>\n",
       "      <td>0.131034</td>\n",
       "      <td>2.96</td>\n",
       "      <td>1149.0</td>\n",
       "      <td>0.833333</td>\n",
       "      <td>0.112069</td>\n",
       "      <td>0.000</td>\n",
       "      <td>0.083333</td>\n",
       "      <td>0.153846</td>\n",
       "      <td>0.073529</td>\n",
       "      <td>0.166667</td>\n",
       "      <td>2.95</td>\n",
       "      <td>0</td>\n",
       "      <td>0</td>\n",
       "      <td>1</td>\n",
       "      <td>0.113467</td>\n",
       "    </tr>\n",
       "    <tr>\n",
       "      <th>1</th>\n",
       "      <td>201905010101</td>\n",
       "      <td>8.0</td>\n",
       "      <td>15.0</td>\n",
       "      <td>3.0</td>\n",
       "      <td>55.0</td>\n",
       "      <td>486.0</td>\n",
       "      <td>2019-01-26 10:10:00</td>\n",
       "      <td>0.0</td>\n",
       "      <td>0.0</td>\n",
       "      <td>1.0</td>\n",
       "      <td>1300.0</td>\n",
       "      <td>4.0</td>\n",
       "      <td>0.113169</td>\n",
       "      <td>1.0</td>\n",
       "      <td>16.0</td>\n",
       "      <td>0.0</td>\n",
       "      <td>0.0</td>\n",
       "      <td>75.0</td>\n",
       "      <td>0.0</td>\n",
       "      <td>1.0</td>\n",
       "      <td>1.0</td>\n",
       "      <td>11.0</td>\n",
       "      <td>2.0</td>\n",
       "      <td>2.0</td>\n",
       "      <td>55.0</td>\n",
       "      <td>100.9</td>\n",
       "      <td>1.5</td>\n",
       "      <td>40.7</td>\n",
       "      <td>482.0</td>\n",
       "      <td>0.0</td>\n",
       "      <td>1600.0</td>\n",
       "      <td>15.857284</td>\n",
       "      <td>4.0</td>\n",
       "      <td>0.114108</td>\n",
       "      <td>4.0</td>\n",
       "      <td>16.0</td>\n",
       "      <td>0.0</td>\n",
       "      <td>0.0</td>\n",
       "      <td>NaN</td>\n",
       "      <td>0.0</td>\n",
       "      <td>0.0</td>\n",
       "      <td>0.0</td>\n",
       "      <td>75.0</td>\n",
       "      <td>NaN</td>\n",
       "      <td>NaN</td>\n",
       "      <td>NaN</td>\n",
       "      <td>NaN</td>\n",
       "      <td>NaN</td>\n",
       "      <td>NaN</td>\n",
       "      <td>NaN</td>\n",
       "      <td>NaN</td>\n",
       "      <td>NaN</td>\n",
       "      <td>NaN</td>\n",
       "      <td>NaN</td>\n",
       "      <td>NaN</td>\n",
       "      <td>NaN</td>\n",
       "      <td>NaN</td>\n",
       "      <td>NaN</td>\n",
       "      <td>NaN</td>\n",
       "      <td>NaN</td>\n",
       "      <td>NaN</td>\n",
       "      <td>NaN</td>\n",
       "      <td>NaN</td>\n",
       "      <td>NaN</td>\n",
       "      <td>NaN</td>\n",
       "      <td>NaN</td>\n",
       "      <td>NaN</td>\n",
       "      <td>NaN</td>\n",
       "      <td>NaN</td>\n",
       "      <td>NaN</td>\n",
       "      <td>NaN</td>\n",
       "      <td>NaN</td>\n",
       "      <td>NaN</td>\n",
       "      <td>NaN</td>\n",
       "      <td>NaN</td>\n",
       "      <td>NaN</td>\n",
       "      <td>NaN</td>\n",
       "      <td>NaN</td>\n",
       "      <td>NaN</td>\n",
       "      <td>NaN</td>\n",
       "      <td>NaN</td>\n",
       "      <td>NaN</td>\n",
       "      <td>NaN</td>\n",
       "      <td>NaN</td>\n",
       "      <td>NaN</td>\n",
       "      <td>NaN</td>\n",
       "      <td>NaN</td>\n",
       "      <td>288.0</td>\n",
       "      <td>0.337778</td>\n",
       "      <td>0.076066</td>\n",
       "      <td>0.070175</td>\n",
       "      <td>0.140127</td>\n",
       "      <td>0.068650</td>\n",
       "      <td>0.088514</td>\n",
       "      <td>0.055258</td>\n",
       "      <td>0.66</td>\n",
       "      <td>126.0</td>\n",
       "      <td>0.336022</td>\n",
       "      <td>0.059539</td>\n",
       "      <td>0.048913</td>\n",
       "      <td>0.062775</td>\n",
       "      <td>0.059204</td>\n",
       "      <td>0.064948</td>\n",
       "      <td>0.055122</td>\n",
       "      <td>0.79</td>\n",
       "      <td>1239.0</td>\n",
       "      <td>0.727273</td>\n",
       "      <td>0.157895</td>\n",
       "      <td>0.0</td>\n",
       "      <td>0.104167</td>\n",
       "      <td>0.192771</td>\n",
       "      <td>0.105263</td>\n",
       "      <td>0.197368</td>\n",
       "      <td>1.39</td>\n",
       "      <td>383.0</td>\n",
       "      <td>0.750000</td>\n",
       "      <td>0.112137</td>\n",
       "      <td>0.125</td>\n",
       "      <td>0.077273</td>\n",
       "      <td>0.126556</td>\n",
       "      <td>0.078740</td>\n",
       "      <td>0.133188</td>\n",
       "      <td>2.32</td>\n",
       "      <td>0</td>\n",
       "      <td>0</td>\n",
       "      <td>1</td>\n",
       "      <td>0.116328</td>\n",
       "    </tr>\n",
       "  </tbody>\n",
       "</table>\n",
       "</div>"
      ],
      "text/plain": [
       "        race_id  frame_number  horse_number  age  burden_weight  horse_weight  \\\n",
       "0  201905010101           1.0           1.0  3.0           56.0         534.0   \n",
       "1  201905010101           8.0          15.0  3.0           55.0         486.0   \n",
       "\n",
       "                  date  is_senba  is_mesu  is_osu  distance  horse_weight_dif  \\\n",
       "0  2019-01-26 10:10:00       0.0      0.0     1.0    1300.0               0.0   \n",
       "1  2019-01-26 10:10:00       0.0      0.0     1.0    1300.0               4.0   \n",
       "\n",
       "   burden_weight_rate  ground_status  total_horse_number  weather_rain  \\\n",
       "0            0.104869            1.0                16.0           0.0   \n",
       "1            0.113169            1.0                16.0           0.0   \n",
       "\n",
       "   weather_snow  pre_date_diff  is_rider_same  is_tamer_same  is_owner_same  \\\n",
       "0           0.0          109.0            1.0            1.0            1.0   \n",
       "1           0.0           75.0            0.0            1.0            1.0   \n",
       "\n",
       "   rank_1  frame_number_1  age_1  burden_weight_1  goal_time_1  \\\n",
       "0    16.0             6.0    2.0             55.0         87.9   \n",
       "1    11.0             2.0    2.0             55.0        100.9   \n",
       "\n",
       "   half_way_rank_1  last_time_1  horse_weight_1  is_down_1  distance_1  \\\n",
       "0             16.0         39.3           516.0        0.0      1300.0   \n",
       "1              1.5         40.7           482.0        0.0      1600.0   \n",
       "\n",
       "   avg_velocity_1  horse_weight_dif_1  burden_weight_rate_1  ground_status_1  \\\n",
       "0       14.789534                 0.0              0.106589              1.0   \n",
       "1       15.857284                 4.0              0.114108              4.0   \n",
       "\n",
       "   total_horse_number_1  weather_rain_1  weather_snow_1  pre_date_diff_1  \\\n",
       "0                  16.0             0.0             0.0              NaN   \n",
       "1                  16.0             0.0             0.0              NaN   \n",
       "\n",
       "   is_rider_same_1  is_tamer_same_1  is_owner_same_1  interval_date_1  rank_2  \\\n",
       "0              0.0              0.0              0.0            109.0     NaN   \n",
       "1              0.0              0.0              0.0             75.0     NaN   \n",
       "\n",
       "   frame_number_2  age_2  burden_weight_2  goal_time_2  half_way_rank_2  \\\n",
       "0             NaN    NaN              NaN          NaN              NaN   \n",
       "1             NaN    NaN              NaN          NaN              NaN   \n",
       "\n",
       "   last_time_2  horse_weight_2  is_down_2  distance_2  avg_velocity_2  \\\n",
       "0          NaN             NaN        NaN         NaN             NaN   \n",
       "1          NaN             NaN        NaN         NaN             NaN   \n",
       "\n",
       "   horse_weight_dif_2  burden_weight_rate_2  ground_status_2  \\\n",
       "0                 NaN                   NaN              NaN   \n",
       "1                 NaN                   NaN              NaN   \n",
       "\n",
       "   total_horse_number_2  weather_rain_2  weather_snow_2  pre_date_diff_2  \\\n",
       "0                   NaN             NaN             NaN              NaN   \n",
       "1                   NaN             NaN             NaN              NaN   \n",
       "\n",
       "   is_rider_same_2  is_tamer_same_2  is_owner_same_2  interval_date_2  rank_3  \\\n",
       "0              NaN              NaN              NaN              NaN     NaN   \n",
       "1              NaN              NaN              NaN              NaN     NaN   \n",
       "\n",
       "   frame_number_3  age_3  burden_weight_3  goal_time_3  half_way_rank_3  \\\n",
       "0             NaN    NaN              NaN          NaN              NaN   \n",
       "1             NaN    NaN              NaN          NaN              NaN   \n",
       "\n",
       "   last_time_3  horse_weight_3  is_down_3  distance_3  avg_velocity_3  \\\n",
       "0          NaN             NaN        NaN         NaN             NaN   \n",
       "1          NaN             NaN        NaN         NaN             NaN   \n",
       "\n",
       "   horse_weight_dif_3  burden_weight_rate_3  ground_status_3  \\\n",
       "0                 NaN                   NaN              NaN   \n",
       "1                 NaN                   NaN              NaN   \n",
       "\n",
       "   total_horse_number_3  weather_rain_3  weather_snow_3  pre_date_diff_3  \\\n",
       "0                   NaN             NaN             NaN              NaN   \n",
       "1                   NaN             NaN             NaN              NaN   \n",
       "\n",
       "   is_rider_same_3  is_tamer_same_3  is_owner_same_3  interval_date_3  rank_f  \\\n",
       "0              NaN              NaN              NaN              NaN    54.0   \n",
       "1              NaN              NaN              NaN              NaN   288.0   \n",
       "\n",
       "   win_horse_rate  win_times_rate  win_jusyo_rate  win_special_rate  \\\n",
       "0        0.412556        0.082456        0.016949          0.067293   \n",
       "1        0.337778        0.076066        0.070175          0.140127   \n",
       "\n",
       "   win_plane_rate  win_turf_rate  win_dirt_rate    EI  rank_mf  \\\n",
       "0        0.086607       0.033520       0.087851  0.92     16.0   \n",
       "1        0.068650       0.088514       0.055258  0.66    126.0   \n",
       "\n",
       "   win_horse_rate_mf  win_times_rate_mf  win_jusyo_rate_mf  \\\n",
       "0           0.469681           0.096372           0.090164   \n",
       "1           0.336022           0.059539           0.048913   \n",
       "\n",
       "   win_special_rate_mf  win_plane_rate_mf  win_turf_rate_mf  win_dirt_rate_mf  \\\n",
       "0             0.077644           0.104321          0.095192          0.099121   \n",
       "1             0.062775           0.059204          0.064948          0.055122   \n",
       "\n",
       "   EI_mf  rank_mmf  win_horse_rate_mmf  win_times_rate_mmf  \\\n",
       "0   1.42     586.0            0.700000            0.106335   \n",
       "1   0.79    1239.0            0.727273            0.157895   \n",
       "\n",
       "   win_jusyo_rate_mmf  win_special_rate_mmf  win_plane_rate_mmf  \\\n",
       "0                 0.0              0.117978            0.106122   \n",
       "1                 0.0              0.104167            0.192771   \n",
       "\n",
       "   win_turf_rate_mmf  win_dirt_rate_mmf  EI_mmf  rank_fmf  win_horse_rate_fmf  \\\n",
       "0           0.057143           0.131034    2.96    1149.0            0.833333   \n",
       "1           0.105263           0.197368    1.39     383.0            0.750000   \n",
       "\n",
       "   win_times_rate_fmf  win_jusyo_rate_fmf  win_special_rate_fmf  \\\n",
       "0            0.112069               0.000              0.083333   \n",
       "1            0.112137               0.125              0.077273   \n",
       "\n",
       "   win_plane_rate_fmf  win_turf_rate_fmf  win_dirt_rate_fmf  EI_fmf  \\\n",
       "0            0.153846           0.073529           0.166667    2.95   \n",
       "1            0.126556           0.078740           0.133188    2.32   \n",
       "\n",
       "   is_tansyo  is_hukusyo  rank_category  predict_0_prob  \n",
       "0          0           0              1        0.113467  \n",
       "1          0           0              1        0.116328  "
      ]
     },
     "execution_count": 114,
     "metadata": {},
     "output_type": "execute_result"
    }
   ],
   "source": [
    "predict_result = pd.read_csv(\"predict/simple_lgb_predicted_test.csv\", sep=\",\")\n",
    "predict_result.head(2)"
   ]
  },
  {
   "cell_type": "code",
   "execution_count": 115,
   "metadata": {},
   "outputs": [],
   "source": [
    "# 予測値を100倍して見やすくする\n",
    "predict_result[\"predict_0_prob\"] = predict_result[\"predict_0_prob\"]*100"
   ]
  },
  {
   "cell_type": "code",
   "execution_count": 116,
   "metadata": {},
   "outputs": [
    {
     "data": {
      "text/plain": [
       "(3996, 127)"
      ]
     },
     "execution_count": 116,
     "metadata": {},
     "output_type": "execute_result"
    }
   ],
   "source": [
    "predict_result.shape"
   ]
  },
  {
   "cell_type": "markdown",
   "metadata": {},
   "source": [
    "## accuracy の計算\n",
    "groupbyして、レースごとに確率の最も高い馬を見つける。\n",
    "正解していたかを判定"
   ]
  },
  {
   "cell_type": "code",
   "execution_count": 117,
   "metadata": {},
   "outputs": [],
   "source": [
    "# group by したデータフレームに対して行う処理\n",
    "def check_is_correct_predict_is_tansyo(one_race_data):\n",
    "    return one_race_data.loc[one_race_data['predict_0_prob'].idxmax()]['is_tansyo']\n",
    "def check_is_correct_predict_is_hukusyo(one_race_data):\n",
    "    return one_race_data.loc[one_race_data['predict_0_prob'].idxmax()]['is_hukusyo']"
   ]
  },
  {
   "cell_type": "code",
   "execution_count": 118,
   "metadata": {},
   "outputs": [
    {
     "name": "stdout",
     "output_type": "stream",
     "text": [
      "tansyo accuracy: 0.23333333333333334\n",
      "hukusyo accuracy: 0.4925925925925926\n"
     ]
    }
   ],
   "source": [
    "part_predict_result = predict_result[[\"race_id\",\"date\",\"horse_number\", \"is_hukusyo\", \"is_tansyo\",\"predict_0_prob\",\"rank_1\"]]\n",
    "\n",
    "is_tansyo = part_predict_result.groupby('race_id').apply(check_is_correct_predict_is_tansyo)\n",
    "is_hukusyo = part_predict_result.groupby('race_id').apply(check_is_correct_predict_is_hukusyo)\n",
    "print(\"tansyo accuracy: {}\".format(is_tansyo.sum()/is_tansyo.size))\n",
    "print(\"hukusyo accuracy: {}\".format(is_hukusyo.sum()/is_hukusyo.size))"
   ]
  },
  {
   "cell_type": "markdown",
   "metadata": {},
   "source": [
    "# blending\n",
    "お互いの欠点を補い合えるかも...？"
   ]
  },
  {
   "cell_type": "code",
   "execution_count": 119,
   "metadata": {
    "scrolled": false
   },
   "outputs": [
    {
     "data": {
      "text/plain": [
       "'\\nblend_df = predict_result.copy()\\nblend_df[\"blend\"] = 0.5*blend_df[\"predict_is_tansyo\"] + 0.5*blend_df[\"predict_is_hukusyo\"]\\nblend_df = blend_df[[\"race_id\",\"date\",\"horse_number\", \"blend\",\"is_hukusyo\", \"is_tansyo\"]]\\n\\ndef blend_check_is_correct_predict_is_tansyo(one_race_data):\\n    return one_race_data.loc[one_race_data[\\'blend\\'].idxmax()][\\'is_tansyo\\']\\ndef blend_check_is_correct_predict_is_hukusyo(one_race_data):\\n    return one_race_data.loc[one_race_data[\\'blend\\'].idxmax()][\\'is_hukusyo\\']\\n\\nis_tansyo = blend_df.groupby(\\'race_id\\').apply(blend_check_is_correct_predict_is_tansyo)\\nis_hukusyo = blend_df.groupby(\\'race_id\\').apply(blend_check_is_correct_predict_is_hukusyo)\\nprint(\"tansyo accuracy: {}\".format(is_tansyo.sum()/is_tansyo.size))\\nprint(\"hukusyo accuracy: {}\".format(is_hukusyo.sum()/is_hukusyo.size))\\n'"
      ]
     },
     "execution_count": 119,
     "metadata": {},
     "output_type": "execute_result"
    }
   ],
   "source": [
    "'''\n",
    "blend_df = predict_result.copy()\n",
    "blend_df[\"blend\"] = 0.5*blend_df[\"predict_is_tansyo\"] + 0.5*blend_df[\"predict_is_hukusyo\"]\n",
    "blend_df = blend_df[[\"race_id\",\"date\",\"horse_number\", \"blend\",\"is_hukusyo\", \"is_tansyo\"]]\n",
    "\n",
    "def blend_check_is_correct_predict_is_tansyo(one_race_data):\n",
    "    return one_race_data.loc[one_race_data['blend'].idxmax()]['is_tansyo']\n",
    "def blend_check_is_correct_predict_is_hukusyo(one_race_data):\n",
    "    return one_race_data.loc[one_race_data['blend'].idxmax()]['is_hukusyo']\n",
    "\n",
    "is_tansyo = blend_df.groupby('race_id').apply(blend_check_is_correct_predict_is_tansyo)\n",
    "is_hukusyo = blend_df.groupby('race_id').apply(blend_check_is_correct_predict_is_hukusyo)\n",
    "print(\"tansyo accuracy: {}\".format(is_tansyo.sum()/is_tansyo.size))\n",
    "print(\"hukusyo accuracy: {}\".format(is_hukusyo.sum()/is_hukusyo.size))\n",
    "'''"
   ]
  },
  {
   "cell_type": "markdown",
   "metadata": {},
   "source": [
    "## おかしいレースを取り除く\n",
    "- 同着が存在する\n",
    "- 前のレース情報が半分以上以上存在しない時\n",
    "- 複勝3でオッズが０となるレース"
   ]
  },
  {
   "cell_type": "code",
   "execution_count": 120,
   "metadata": {},
   "outputs": [],
   "source": [
    "merged_df = pd.merge(part_predict_result, race_df, on=\"race_id\")\n",
    "merged_df = pd.merge(merged_df, horse_df, on=['race_id','horse_number'])\n",
    "\n",
    "merged_df['tansyo_return'] = merged_df['is_tansyo']*merged_df['tansyo'] - 100\n",
    "merged_df[\"hukusyo_return\"] = (merged_df[\"rank\"]==1)*merged_df[\"hukusyo_first\"] + (merged_df[\"rank\"]==2)*merged_df[\"hukusyo_second\"] + (merged_df[\"rank\"]==3)*merged_df[\"hukusyo_third\"]  - 100"
   ]
  },
  {
   "cell_type": "code",
   "execution_count": 121,
   "metadata": {},
   "outputs": [
    {
     "data": {
      "text/html": [
       "<div>\n",
       "<style scoped>\n",
       "    .dataframe tbody tr th:only-of-type {\n",
       "        vertical-align: middle;\n",
       "    }\n",
       "\n",
       "    .dataframe tbody tr th {\n",
       "        vertical-align: top;\n",
       "    }\n",
       "\n",
       "    .dataframe thead th {\n",
       "        text-align: right;\n",
       "    }\n",
       "</style>\n",
       "<table border=\"1\" class=\"dataframe\">\n",
       "  <thead>\n",
       "    <tr style=\"text-align: right;\">\n",
       "      <th></th>\n",
       "      <th>race_id</th>\n",
       "      <th>date_x</th>\n",
       "      <th>horse_number</th>\n",
       "      <th>is_hukusyo</th>\n",
       "      <th>is_tansyo</th>\n",
       "      <th>predict_0_prob</th>\n",
       "      <th>rank_1</th>\n",
       "      <th>race_round</th>\n",
       "      <th>ground_status</th>\n",
       "      <th>date_y</th>\n",
       "      <th>total_horse_number</th>\n",
       "      <th>frame_number_first</th>\n",
       "      <th>horse_number_first</th>\n",
       "      <th>frame_number_second</th>\n",
       "      <th>horse_number_second</th>\n",
       "      <th>frame_number_third</th>\n",
       "      <th>horse_number_third</th>\n",
       "      <th>tansyo</th>\n",
       "      <th>hukusyo_first</th>\n",
       "      <th>hukusyo_second</th>\n",
       "      <th>hukusyo_third</th>\n",
       "      <th>wakuren</th>\n",
       "      <th>umaren</th>\n",
       "      <th>wide_1_2</th>\n",
       "      <th>wide_1_3</th>\n",
       "      <th>wide_2_3</th>\n",
       "      <th>umatan</th>\n",
       "      <th>renhuku3</th>\n",
       "      <th>rentan3</th>\n",
       "      <th>distance_x</th>\n",
       "      <th>weather_rain</th>\n",
       "      <th>weather_snow</th>\n",
       "      <th>rank</th>\n",
       "      <th>frame_number</th>\n",
       "      <th>horse_id</th>\n",
       "      <th>age</th>\n",
       "      <th>burden_weight</th>\n",
       "      <th>rider_id</th>\n",
       "      <th>goal_time</th>\n",
       "      <th>half_way_rank</th>\n",
       "      <th>last_time</th>\n",
       "      <th>odds</th>\n",
       "      <th>popular</th>\n",
       "      <th>horse_weight</th>\n",
       "      <th>tamer_id</th>\n",
       "      <th>owner_id</th>\n",
       "      <th>date</th>\n",
       "      <th>is_down</th>\n",
       "      <th>is_senba</th>\n",
       "      <th>is_mesu</th>\n",
       "      <th>is_osu</th>\n",
       "      <th>distance_y</th>\n",
       "      <th>avg_velocity</th>\n",
       "      <th>horse_weight_dif</th>\n",
       "      <th>burden_weight_rate</th>\n",
       "      <th>tansyo_return</th>\n",
       "      <th>hukusyo_return</th>\n",
       "    </tr>\n",
       "  </thead>\n",
       "  <tbody>\n",
       "    <tr>\n",
       "      <th>0</th>\n",
       "      <td>201905010101</td>\n",
       "      <td>2019-01-26 10:10:00</td>\n",
       "      <td>1.0</td>\n",
       "      <td>0</td>\n",
       "      <td>0</td>\n",
       "      <td>11.346673</td>\n",
       "      <td>16.0</td>\n",
       "      <td>1</td>\n",
       "      <td>1</td>\n",
       "      <td>2019-01-26 10:10:00</td>\n",
       "      <td>16</td>\n",
       "      <td>8</td>\n",
       "      <td>16</td>\n",
       "      <td>2</td>\n",
       "      <td>3</td>\n",
       "      <td>5</td>\n",
       "      <td>10</td>\n",
       "      <td>1880</td>\n",
       "      <td>280</td>\n",
       "      <td>110</td>\n",
       "      <td>120</td>\n",
       "      <td>640</td>\n",
       "      <td>2110</td>\n",
       "      <td>700</td>\n",
       "      <td>650</td>\n",
       "      <td>200</td>\n",
       "      <td>6360</td>\n",
       "      <td>1560</td>\n",
       "      <td>18190</td>\n",
       "      <td>1300</td>\n",
       "      <td>0</td>\n",
       "      <td>0</td>\n",
       "      <td>6</td>\n",
       "      <td>1</td>\n",
       "      <td>2016100630</td>\n",
       "      <td>3</td>\n",
       "      <td>56.0</td>\n",
       "      <td>1150</td>\n",
       "      <td>82.4</td>\n",
       "      <td>1.0</td>\n",
       "      <td>39.7</td>\n",
       "      <td>8.5</td>\n",
       "      <td>4.0</td>\n",
       "      <td>534.0</td>\n",
       "      <td>1076</td>\n",
       "      <td>238033</td>\n",
       "      <td>2019-01-26 10:10:00</td>\n",
       "      <td>0</td>\n",
       "      <td>0</td>\n",
       "      <td>0</td>\n",
       "      <td>1</td>\n",
       "      <td>1300</td>\n",
       "      <td>15.776699</td>\n",
       "      <td>0.0</td>\n",
       "      <td>0.104869</td>\n",
       "      <td>-100</td>\n",
       "      <td>-100</td>\n",
       "    </tr>\n",
       "    <tr>\n",
       "      <th>1</th>\n",
       "      <td>201905010101</td>\n",
       "      <td>2019-01-26 10:10:00</td>\n",
       "      <td>15.0</td>\n",
       "      <td>0</td>\n",
       "      <td>0</td>\n",
       "      <td>11.632785</td>\n",
       "      <td>11.0</td>\n",
       "      <td>1</td>\n",
       "      <td>1</td>\n",
       "      <td>2019-01-26 10:10:00</td>\n",
       "      <td>16</td>\n",
       "      <td>8</td>\n",
       "      <td>16</td>\n",
       "      <td>2</td>\n",
       "      <td>3</td>\n",
       "      <td>5</td>\n",
       "      <td>10</td>\n",
       "      <td>1880</td>\n",
       "      <td>280</td>\n",
       "      <td>110</td>\n",
       "      <td>120</td>\n",
       "      <td>640</td>\n",
       "      <td>2110</td>\n",
       "      <td>700</td>\n",
       "      <td>650</td>\n",
       "      <td>200</td>\n",
       "      <td>6360</td>\n",
       "      <td>1560</td>\n",
       "      <td>18190</td>\n",
       "      <td>1300</td>\n",
       "      <td>0</td>\n",
       "      <td>0</td>\n",
       "      <td>7</td>\n",
       "      <td>8</td>\n",
       "      <td>2016101490</td>\n",
       "      <td>3</td>\n",
       "      <td>55.0</td>\n",
       "      <td>1169</td>\n",
       "      <td>83.0</td>\n",
       "      <td>6.5</td>\n",
       "      <td>39.3</td>\n",
       "      <td>6.3</td>\n",
       "      <td>3.0</td>\n",
       "      <td>486.0</td>\n",
       "      <td>1088</td>\n",
       "      <td>547800</td>\n",
       "      <td>2019-01-26 10:10:00</td>\n",
       "      <td>0</td>\n",
       "      <td>0</td>\n",
       "      <td>0</td>\n",
       "      <td>1</td>\n",
       "      <td>1300</td>\n",
       "      <td>15.662651</td>\n",
       "      <td>4.0</td>\n",
       "      <td>0.113169</td>\n",
       "      <td>-100</td>\n",
       "      <td>-100</td>\n",
       "    </tr>\n",
       "  </tbody>\n",
       "</table>\n",
       "</div>"
      ],
      "text/plain": [
       "        race_id               date_x  horse_number  is_hukusyo  is_tansyo  \\\n",
       "0  201905010101  2019-01-26 10:10:00           1.0           0          0   \n",
       "1  201905010101  2019-01-26 10:10:00          15.0           0          0   \n",
       "\n",
       "   predict_0_prob  rank_1  race_round  ground_status               date_y  \\\n",
       "0       11.346673    16.0           1              1  2019-01-26 10:10:00   \n",
       "1       11.632785    11.0           1              1  2019-01-26 10:10:00   \n",
       "\n",
       "   total_horse_number  frame_number_first  horse_number_first  \\\n",
       "0                  16                   8                  16   \n",
       "1                  16                   8                  16   \n",
       "\n",
       "   frame_number_second  horse_number_second  frame_number_third  \\\n",
       "0                    2                    3                   5   \n",
       "1                    2                    3                   5   \n",
       "\n",
       "   horse_number_third  tansyo  hukusyo_first  hukusyo_second  hukusyo_third  \\\n",
       "0                  10    1880            280             110            120   \n",
       "1                  10    1880            280             110            120   \n",
       "\n",
       "   wakuren  umaren  wide_1_2  wide_1_3  wide_2_3  umatan  renhuku3  rentan3  \\\n",
       "0      640    2110       700       650       200    6360      1560    18190   \n",
       "1      640    2110       700       650       200    6360      1560    18190   \n",
       "\n",
       "   distance_x  weather_rain  weather_snow  rank  frame_number    horse_id  \\\n",
       "0        1300             0             0     6             1  2016100630   \n",
       "1        1300             0             0     7             8  2016101490   \n",
       "\n",
       "   age  burden_weight  rider_id  goal_time  half_way_rank  last_time  odds  \\\n",
       "0    3           56.0      1150       82.4            1.0       39.7   8.5   \n",
       "1    3           55.0      1169       83.0            6.5       39.3   6.3   \n",
       "\n",
       "   popular  horse_weight  tamer_id  owner_id                 date  is_down  \\\n",
       "0      4.0         534.0      1076    238033  2019-01-26 10:10:00        0   \n",
       "1      3.0         486.0      1088    547800  2019-01-26 10:10:00        0   \n",
       "\n",
       "   is_senba  is_mesu  is_osu  distance_y  avg_velocity  horse_weight_dif  \\\n",
       "0         0        0       1        1300     15.776699               0.0   \n",
       "1         0        0       1        1300     15.662651               4.0   \n",
       "\n",
       "   burden_weight_rate  tansyo_return  hukusyo_return  \n",
       "0            0.104869           -100            -100  \n",
       "1            0.113169           -100            -100  "
      ]
     },
     "execution_count": 121,
     "metadata": {},
     "output_type": "execute_result"
    }
   ],
   "source": [
    "merged_df.head(2)"
   ]
  },
  {
   "cell_type": "code",
   "execution_count": 122,
   "metadata": {},
   "outputs": [
    {
     "name": "stdout",
     "output_type": "stream",
     "text": [
      "[110 120 130]\n",
      "[100 110 120]\n",
      "[110 120 130]\n",
      "[  0 110 120]\n"
     ]
    }
   ],
   "source": [
    "print(merged_df[\"tansyo\"].sort_values().unique()[0:3])\n",
    "print(merged_df[\"hukusyo_first\"].sort_values().unique()[0:3])\n",
    "print(merged_df[\"hukusyo_second\"].sort_values().unique()[0:3])\n",
    "print(merged_df[\"hukusyo_third\"].sort_values().unique()[0:3])"
   ]
  },
  {
   "cell_type": "code",
   "execution_count": 123,
   "metadata": {},
   "outputs": [],
   "source": [
    "def remove_same(one_horse_data):\n",
    "    #  数レース分の情報を結合\n",
    "    result_df = one_horse_data.copy()\n",
    "    horse_number = result_df['horse_number'].mean()\n",
    "    if result_df[\"rank\"].duplicated().sum() or result_df[\"rank_1\"].isnull().sum()>horse_number/2 or (result_df[\"hukusyo_third\"].isnull().sum()>0):\n",
    "        return \n",
    "    else:\n",
    "        return result_df"
   ]
  },
  {
   "cell_type": "code",
   "execution_count": 124,
   "metadata": {},
   "outputs": [
    {
     "name": "stdout",
     "output_type": "stream",
     "text": [
      "(3996, 57)\n",
      "(1828, 57)\n"
     ]
    }
   ],
   "source": [
    "print(merged_df.shape)\n",
    "removed = merged_df.groupby(\"race_id\").apply(remove_same)\n",
    "print(removed.shape)"
   ]
  },
  {
   "cell_type": "markdown",
   "metadata": {},
   "source": [
    "## 可視化"
   ]
  },
  {
   "cell_type": "code",
   "execution_count": 125,
   "metadata": {},
   "outputs": [
    {
     "data": {
      "text/html": [
       "<div>\n",
       "<style scoped>\n",
       "    .dataframe tbody tr th:only-of-type {\n",
       "        vertical-align: middle;\n",
       "    }\n",
       "\n",
       "    .dataframe tbody tr th {\n",
       "        vertical-align: top;\n",
       "    }\n",
       "\n",
       "    .dataframe thead th {\n",
       "        text-align: right;\n",
       "    }\n",
       "</style>\n",
       "<table border=\"1\" class=\"dataframe\">\n",
       "  <thead>\n",
       "    <tr style=\"text-align: right;\">\n",
       "      <th></th>\n",
       "      <th>race_id</th>\n",
       "      <th>date_x</th>\n",
       "      <th>horse_number</th>\n",
       "      <th>is_hukusyo</th>\n",
       "      <th>is_tansyo</th>\n",
       "      <th>predict_0_prob</th>\n",
       "      <th>rank_1</th>\n",
       "      <th>race_round</th>\n",
       "      <th>ground_status</th>\n",
       "      <th>date_y</th>\n",
       "      <th>total_horse_number</th>\n",
       "      <th>frame_number_first</th>\n",
       "      <th>horse_number_first</th>\n",
       "      <th>frame_number_second</th>\n",
       "      <th>horse_number_second</th>\n",
       "      <th>frame_number_third</th>\n",
       "      <th>horse_number_third</th>\n",
       "      <th>tansyo</th>\n",
       "      <th>hukusyo_first</th>\n",
       "      <th>hukusyo_second</th>\n",
       "      <th>hukusyo_third</th>\n",
       "      <th>wakuren</th>\n",
       "      <th>umaren</th>\n",
       "      <th>wide_1_2</th>\n",
       "      <th>wide_1_3</th>\n",
       "      <th>wide_2_3</th>\n",
       "      <th>umatan</th>\n",
       "      <th>renhuku3</th>\n",
       "      <th>rentan3</th>\n",
       "      <th>distance_x</th>\n",
       "      <th>weather_rain</th>\n",
       "      <th>weather_snow</th>\n",
       "      <th>rank</th>\n",
       "      <th>frame_number</th>\n",
       "      <th>horse_id</th>\n",
       "      <th>age</th>\n",
       "      <th>burden_weight</th>\n",
       "      <th>rider_id</th>\n",
       "      <th>goal_time</th>\n",
       "      <th>half_way_rank</th>\n",
       "      <th>last_time</th>\n",
       "      <th>odds</th>\n",
       "      <th>popular</th>\n",
       "      <th>horse_weight</th>\n",
       "      <th>tamer_id</th>\n",
       "      <th>owner_id</th>\n",
       "      <th>date</th>\n",
       "      <th>is_down</th>\n",
       "      <th>is_senba</th>\n",
       "      <th>is_mesu</th>\n",
       "      <th>is_osu</th>\n",
       "      <th>distance_y</th>\n",
       "      <th>avg_velocity</th>\n",
       "      <th>horse_weight_dif</th>\n",
       "      <th>burden_weight_rate</th>\n",
       "      <th>tansyo_return</th>\n",
       "      <th>hukusyo_return</th>\n",
       "    </tr>\n",
       "  </thead>\n",
       "  <tbody>\n",
       "    <tr>\n",
       "      <th>0</th>\n",
       "      <td>201905010107</td>\n",
       "      <td>2019-01-26 13:30:00</td>\n",
       "      <td>2.0</td>\n",
       "      <td>0</td>\n",
       "      <td>0</td>\n",
       "      <td>12.325528</td>\n",
       "      <td>9.0</td>\n",
       "      <td>7</td>\n",
       "      <td>1</td>\n",
       "      <td>2019-01-26 13:30:00</td>\n",
       "      <td>16</td>\n",
       "      <td>7</td>\n",
       "      <td>14</td>\n",
       "      <td>5</td>\n",
       "      <td>10</td>\n",
       "      <td>7</td>\n",
       "      <td>13</td>\n",
       "      <td>640</td>\n",
       "      <td>220</td>\n",
       "      <td>190</td>\n",
       "      <td>460</td>\n",
       "      <td>1070</td>\n",
       "      <td>1250</td>\n",
       "      <td>500</td>\n",
       "      <td>1300</td>\n",
       "      <td>1340</td>\n",
       "      <td>2380</td>\n",
       "      <td>5420</td>\n",
       "      <td>25790</td>\n",
       "      <td>1400</td>\n",
       "      <td>0</td>\n",
       "      <td>0</td>\n",
       "      <td>9</td>\n",
       "      <td>1</td>\n",
       "      <td>2015105432</td>\n",
       "      <td>4</td>\n",
       "      <td>56.0</td>\n",
       "      <td>5575</td>\n",
       "      <td>87.3</td>\n",
       "      <td>3.5</td>\n",
       "      <td>38.2</td>\n",
       "      <td>13.0</td>\n",
       "      <td>7.0</td>\n",
       "      <td>490.0</td>\n",
       "      <td>399</td>\n",
       "      <td>854800</td>\n",
       "      <td>2019-01-26 13:30:00</td>\n",
       "      <td>0</td>\n",
       "      <td>0</td>\n",
       "      <td>0</td>\n",
       "      <td>1</td>\n",
       "      <td>1400</td>\n",
       "      <td>16.036655</td>\n",
       "      <td>10.0</td>\n",
       "      <td>0.114286</td>\n",
       "      <td>-100</td>\n",
       "      <td>-100</td>\n",
       "    </tr>\n",
       "    <tr>\n",
       "      <th>1</th>\n",
       "      <td>201905010107</td>\n",
       "      <td>2019-01-26 13:30:00</td>\n",
       "      <td>13.0</td>\n",
       "      <td>1</td>\n",
       "      <td>0</td>\n",
       "      <td>12.081854</td>\n",
       "      <td>9.0</td>\n",
       "      <td>7</td>\n",
       "      <td>1</td>\n",
       "      <td>2019-01-26 13:30:00</td>\n",
       "      <td>16</td>\n",
       "      <td>7</td>\n",
       "      <td>14</td>\n",
       "      <td>5</td>\n",
       "      <td>10</td>\n",
       "      <td>7</td>\n",
       "      <td>13</td>\n",
       "      <td>640</td>\n",
       "      <td>220</td>\n",
       "      <td>190</td>\n",
       "      <td>460</td>\n",
       "      <td>1070</td>\n",
       "      <td>1250</td>\n",
       "      <td>500</td>\n",
       "      <td>1300</td>\n",
       "      <td>1340</td>\n",
       "      <td>2380</td>\n",
       "      <td>5420</td>\n",
       "      <td>25790</td>\n",
       "      <td>1400</td>\n",
       "      <td>0</td>\n",
       "      <td>0</td>\n",
       "      <td>3</td>\n",
       "      <td>7</td>\n",
       "      <td>2014100916</td>\n",
       "      <td>5</td>\n",
       "      <td>56.0</td>\n",
       "      <td>1162</td>\n",
       "      <td>86.6</td>\n",
       "      <td>7.0</td>\n",
       "      <td>37.3</td>\n",
       "      <td>16.6</td>\n",
       "      <td>8.0</td>\n",
       "      <td>452.0</td>\n",
       "      <td>1051</td>\n",
       "      <td>158033</td>\n",
       "      <td>2019-01-26 13:30:00</td>\n",
       "      <td>0</td>\n",
       "      <td>0</td>\n",
       "      <td>0</td>\n",
       "      <td>1</td>\n",
       "      <td>1400</td>\n",
       "      <td>16.166282</td>\n",
       "      <td>4.0</td>\n",
       "      <td>0.123894</td>\n",
       "      <td>-100</td>\n",
       "      <td>360</td>\n",
       "    </tr>\n",
       "    <tr>\n",
       "      <th>2</th>\n",
       "      <td>201905010107</td>\n",
       "      <td>2019-01-26 13:30:00</td>\n",
       "      <td>16.0</td>\n",
       "      <td>0</td>\n",
       "      <td>0</td>\n",
       "      <td>19.879194</td>\n",
       "      <td>5.0</td>\n",
       "      <td>7</td>\n",
       "      <td>1</td>\n",
       "      <td>2019-01-26 13:30:00</td>\n",
       "      <td>16</td>\n",
       "      <td>7</td>\n",
       "      <td>14</td>\n",
       "      <td>5</td>\n",
       "      <td>10</td>\n",
       "      <td>7</td>\n",
       "      <td>13</td>\n",
       "      <td>640</td>\n",
       "      <td>220</td>\n",
       "      <td>190</td>\n",
       "      <td>460</td>\n",
       "      <td>1070</td>\n",
       "      <td>1250</td>\n",
       "      <td>500</td>\n",
       "      <td>1300</td>\n",
       "      <td>1340</td>\n",
       "      <td>2380</td>\n",
       "      <td>5420</td>\n",
       "      <td>25790</td>\n",
       "      <td>1400</td>\n",
       "      <td>0</td>\n",
       "      <td>0</td>\n",
       "      <td>4</td>\n",
       "      <td>8</td>\n",
       "      <td>2015100644</td>\n",
       "      <td>4</td>\n",
       "      <td>56.0</td>\n",
       "      <td>1122</td>\n",
       "      <td>86.9</td>\n",
       "      <td>12.0</td>\n",
       "      <td>37.0</td>\n",
       "      <td>4.6</td>\n",
       "      <td>1.0</td>\n",
       "      <td>494.0</td>\n",
       "      <td>1088</td>\n",
       "      <td>798008</td>\n",
       "      <td>2019-01-26 13:30:00</td>\n",
       "      <td>0</td>\n",
       "      <td>0</td>\n",
       "      <td>0</td>\n",
       "      <td>1</td>\n",
       "      <td>1400</td>\n",
       "      <td>16.110472</td>\n",
       "      <td>-4.0</td>\n",
       "      <td>0.113360</td>\n",
       "      <td>-100</td>\n",
       "      <td>-100</td>\n",
       "    </tr>\n",
       "    <tr>\n",
       "      <th>3</th>\n",
       "      <td>201905010107</td>\n",
       "      <td>2019-01-26 13:30:00</td>\n",
       "      <td>15.0</td>\n",
       "      <td>0</td>\n",
       "      <td>0</td>\n",
       "      <td>22.328773</td>\n",
       "      <td>3.0</td>\n",
       "      <td>7</td>\n",
       "      <td>1</td>\n",
       "      <td>2019-01-26 13:30:00</td>\n",
       "      <td>16</td>\n",
       "      <td>7</td>\n",
       "      <td>14</td>\n",
       "      <td>5</td>\n",
       "      <td>10</td>\n",
       "      <td>7</td>\n",
       "      <td>13</td>\n",
       "      <td>640</td>\n",
       "      <td>220</td>\n",
       "      <td>190</td>\n",
       "      <td>460</td>\n",
       "      <td>1070</td>\n",
       "      <td>1250</td>\n",
       "      <td>500</td>\n",
       "      <td>1300</td>\n",
       "      <td>1340</td>\n",
       "      <td>2380</td>\n",
       "      <td>5420</td>\n",
       "      <td>25790</td>\n",
       "      <td>1400</td>\n",
       "      <td>0</td>\n",
       "      <td>0</td>\n",
       "      <td>12</td>\n",
       "      <td>8</td>\n",
       "      <td>2015104514</td>\n",
       "      <td>4</td>\n",
       "      <td>54.0</td>\n",
       "      <td>1158</td>\n",
       "      <td>87.5</td>\n",
       "      <td>3.5</td>\n",
       "      <td>38.4</td>\n",
       "      <td>51.2</td>\n",
       "      <td>10.0</td>\n",
       "      <td>466.0</td>\n",
       "      <td>1124</td>\n",
       "      <td>308033</td>\n",
       "      <td>2019-01-26 13:30:00</td>\n",
       "      <td>0</td>\n",
       "      <td>0</td>\n",
       "      <td>0</td>\n",
       "      <td>1</td>\n",
       "      <td>1400</td>\n",
       "      <td>16.000000</td>\n",
       "      <td>16.0</td>\n",
       "      <td>0.115880</td>\n",
       "      <td>-100</td>\n",
       "      <td>-100</td>\n",
       "    </tr>\n",
       "    <tr>\n",
       "      <th>4</th>\n",
       "      <td>201905010107</td>\n",
       "      <td>2019-01-26 13:30:00</td>\n",
       "      <td>7.0</td>\n",
       "      <td>0</td>\n",
       "      <td>0</td>\n",
       "      <td>11.661989</td>\n",
       "      <td>6.0</td>\n",
       "      <td>7</td>\n",
       "      <td>1</td>\n",
       "      <td>2019-01-26 13:30:00</td>\n",
       "      <td>16</td>\n",
       "      <td>7</td>\n",
       "      <td>14</td>\n",
       "      <td>5</td>\n",
       "      <td>10</td>\n",
       "      <td>7</td>\n",
       "      <td>13</td>\n",
       "      <td>640</td>\n",
       "      <td>220</td>\n",
       "      <td>190</td>\n",
       "      <td>460</td>\n",
       "      <td>1070</td>\n",
       "      <td>1250</td>\n",
       "      <td>500</td>\n",
       "      <td>1300</td>\n",
       "      <td>1340</td>\n",
       "      <td>2380</td>\n",
       "      <td>5420</td>\n",
       "      <td>25790</td>\n",
       "      <td>1400</td>\n",
       "      <td>0</td>\n",
       "      <td>0</td>\n",
       "      <td>11</td>\n",
       "      <td>4</td>\n",
       "      <td>2012101289</td>\n",
       "      <td>7</td>\n",
       "      <td>57.0</td>\n",
       "      <td>641</td>\n",
       "      <td>87.4</td>\n",
       "      <td>15.5</td>\n",
       "      <td>37.4</td>\n",
       "      <td>68.4</td>\n",
       "      <td>12.0</td>\n",
       "      <td>480.0</td>\n",
       "      <td>1165</td>\n",
       "      <td>580007</td>\n",
       "      <td>2019-01-26 13:30:00</td>\n",
       "      <td>0</td>\n",
       "      <td>1</td>\n",
       "      <td>0</td>\n",
       "      <td>0</td>\n",
       "      <td>1400</td>\n",
       "      <td>16.018307</td>\n",
       "      <td>-4.0</td>\n",
       "      <td>0.118750</td>\n",
       "      <td>-100</td>\n",
       "      <td>-100</td>\n",
       "    </tr>\n",
       "  </tbody>\n",
       "</table>\n",
       "</div>"
      ],
      "text/plain": [
       "        race_id               date_x  horse_number  is_hukusyo  is_tansyo  \\\n",
       "0  201905010107  2019-01-26 13:30:00           2.0           0          0   \n",
       "1  201905010107  2019-01-26 13:30:00          13.0           1          0   \n",
       "2  201905010107  2019-01-26 13:30:00          16.0           0          0   \n",
       "3  201905010107  2019-01-26 13:30:00          15.0           0          0   \n",
       "4  201905010107  2019-01-26 13:30:00           7.0           0          0   \n",
       "\n",
       "   predict_0_prob  rank_1  race_round  ground_status               date_y  \\\n",
       "0       12.325528     9.0           7              1  2019-01-26 13:30:00   \n",
       "1       12.081854     9.0           7              1  2019-01-26 13:30:00   \n",
       "2       19.879194     5.0           7              1  2019-01-26 13:30:00   \n",
       "3       22.328773     3.0           7              1  2019-01-26 13:30:00   \n",
       "4       11.661989     6.0           7              1  2019-01-26 13:30:00   \n",
       "\n",
       "   total_horse_number  frame_number_first  horse_number_first  \\\n",
       "0                  16                   7                  14   \n",
       "1                  16                   7                  14   \n",
       "2                  16                   7                  14   \n",
       "3                  16                   7                  14   \n",
       "4                  16                   7                  14   \n",
       "\n",
       "   frame_number_second  horse_number_second  frame_number_third  \\\n",
       "0                    5                   10                   7   \n",
       "1                    5                   10                   7   \n",
       "2                    5                   10                   7   \n",
       "3                    5                   10                   7   \n",
       "4                    5                   10                   7   \n",
       "\n",
       "   horse_number_third  tansyo  hukusyo_first  hukusyo_second  hukusyo_third  \\\n",
       "0                  13     640            220             190            460   \n",
       "1                  13     640            220             190            460   \n",
       "2                  13     640            220             190            460   \n",
       "3                  13     640            220             190            460   \n",
       "4                  13     640            220             190            460   \n",
       "\n",
       "   wakuren  umaren  wide_1_2  wide_1_3  wide_2_3  umatan  renhuku3  rentan3  \\\n",
       "0     1070    1250       500      1300      1340    2380      5420    25790   \n",
       "1     1070    1250       500      1300      1340    2380      5420    25790   \n",
       "2     1070    1250       500      1300      1340    2380      5420    25790   \n",
       "3     1070    1250       500      1300      1340    2380      5420    25790   \n",
       "4     1070    1250       500      1300      1340    2380      5420    25790   \n",
       "\n",
       "   distance_x  weather_rain  weather_snow  rank  frame_number    horse_id  \\\n",
       "0        1400             0             0     9             1  2015105432   \n",
       "1        1400             0             0     3             7  2014100916   \n",
       "2        1400             0             0     4             8  2015100644   \n",
       "3        1400             0             0    12             8  2015104514   \n",
       "4        1400             0             0    11             4  2012101289   \n",
       "\n",
       "   age  burden_weight  rider_id  goal_time  half_way_rank  last_time  odds  \\\n",
       "0    4           56.0      5575       87.3            3.5       38.2  13.0   \n",
       "1    5           56.0      1162       86.6            7.0       37.3  16.6   \n",
       "2    4           56.0      1122       86.9           12.0       37.0   4.6   \n",
       "3    4           54.0      1158       87.5            3.5       38.4  51.2   \n",
       "4    7           57.0       641       87.4           15.5       37.4  68.4   \n",
       "\n",
       "   popular  horse_weight  tamer_id  owner_id                 date  is_down  \\\n",
       "0      7.0         490.0       399    854800  2019-01-26 13:30:00        0   \n",
       "1      8.0         452.0      1051    158033  2019-01-26 13:30:00        0   \n",
       "2      1.0         494.0      1088    798008  2019-01-26 13:30:00        0   \n",
       "3     10.0         466.0      1124    308033  2019-01-26 13:30:00        0   \n",
       "4     12.0         480.0      1165    580007  2019-01-26 13:30:00        0   \n",
       "\n",
       "   is_senba  is_mesu  is_osu  distance_y  avg_velocity  horse_weight_dif  \\\n",
       "0         0        0       1        1400     16.036655              10.0   \n",
       "1         0        0       1        1400     16.166282               4.0   \n",
       "2         0        0       1        1400     16.110472              -4.0   \n",
       "3         0        0       1        1400     16.000000              16.0   \n",
       "4         1        0       0        1400     16.018307              -4.0   \n",
       "\n",
       "   burden_weight_rate  tansyo_return  hukusyo_return  \n",
       "0            0.114286           -100            -100  \n",
       "1            0.123894           -100             360  \n",
       "2            0.113360           -100            -100  \n",
       "3            0.115880           -100            -100  \n",
       "4            0.118750           -100            -100  "
      ]
     },
     "execution_count": 125,
     "metadata": {},
     "output_type": "execute_result"
    }
   ],
   "source": [
    "removed = removed.reset_index(drop=True)\n",
    "removed.head()"
   ]
  },
  {
   "cell_type": "code",
   "execution_count": 126,
   "metadata": {},
   "outputs": [
    {
     "data": {
      "text/plain": [
       "<matplotlib.axes._subplots.AxesSubplot at 0x112681250>"
      ]
     },
     "execution_count": 126,
     "metadata": {},
     "output_type": "execute_result"
    },
    {
     "data": {
      "image/png": "[encoded data removed]",
      "text/plain": [
       "<Figure size 1152x288 with 1 Axes>"
      ]
     },
     "metadata": {},
     "output_type": "display_data"
    }
   ],
   "source": [
    "# predict_0_prob の分布についてヒストグラム\n",
    "removed.plot(kind='hist', y='predict_0_prob' , bins=10, figsize=(16,4), alpha=0.5)"
   ]
  },
  {
   "cell_type": "code",
   "execution_count": 127,
   "metadata": {
    "scrolled": true
   },
   "outputs": [
    {
     "data": {
      "text/plain": [
       "<matplotlib.axes._subplots.AxesSubplot at 0x1126b15d0>"
      ]
     },
     "execution_count": 127,
     "metadata": {},
     "output_type": "execute_result"
    },
    {
     "data": {
      "image/png": "[encoded data removed]",
      "text/plain": [
       "<Figure size 432x288 with 1 Axes>"
      ]
     },
     "metadata": {},
     "output_type": "display_data"
    }
   ],
   "source": [
    "# オッズと予測値\n",
    "removed.plot(kind='scatter', x='predict_0_prob', y='odds')"
   ]
  },
  {
   "cell_type": "code",
   "execution_count": 128,
   "metadata": {},
   "outputs": [
    {
     "data": {
      "text/plain": [
       "<matplotlib.axes._subplots.AxesSubplot at 0x111af3f90>"
      ]
     },
     "execution_count": 128,
     "metadata": {},
     "output_type": "execute_result"
    },
    {
     "data": {
      "image/png": "[encoded data removed]",
      "text/plain": [
       "<Figure size 432x288 with 1 Axes>"
      ]
     },
     "metadata": {},
     "output_type": "display_data"
    }
   ],
   "source": [
    "# 実際に1位になったものについてのオッズと予測値\n",
    "removed[removed[\"rank\"]==1].plot(kind='scatter', x='predict_0_prob', y='odds')"
   ]
  },
  {
   "cell_type": "code",
   "execution_count": 129,
   "metadata": {
    "scrolled": true
   },
   "outputs": [
    {
     "data": {
      "text/plain": [
       "<matplotlib.axes._subplots.AxesSubplot at 0x10f148990>"
      ]
     },
     "execution_count": 129,
     "metadata": {},
     "output_type": "execute_result"
    },
    {
     "data": {
      "image/png": "[encoded data removed]",
      "text/plain": [
       "<Figure size 432x288 with 1 Axes>"
      ]
     },
     "metadata": {},
     "output_type": "display_data"
    }
   ],
   "source": [
    "# 実際に複勝圏内になったものについてのオッズと予測値\n",
    "removed[removed[\"rank\"]<=3].plot(kind='scatter', x='predict_0_prob', y='odds')"
   ]
  },
  {
   "cell_type": "code",
   "execution_count": null,
   "metadata": {},
   "outputs": [],
   "source": []
  },
  {
   "cell_type": "markdown",
   "metadata": {},
   "source": [
    "## 的中率の計算(実際に1位や３位以内であった確率）"
   ]
  },
  {
   "cell_type": "code",
   "execution_count": 130,
   "metadata": {},
   "outputs": [],
   "source": [
    "# cut\n",
    "removed[\"predict_0_prob_cut\"] = pd.cut(removed[\"predict_0_prob\"], 10)"
   ]
  },
  {
   "cell_type": "code",
   "execution_count": 131,
   "metadata": {},
   "outputs": [
    {
     "data": {
      "text/plain": [
       "<matplotlib.axes._subplots.AxesSubplot at 0x1129621d0>"
      ]
     },
     "execution_count": 131,
     "metadata": {},
     "output_type": "execute_result"
    },
    {
     "data": {
      "image/png": "[encoded data removed]",
      "text/plain": [
       "<Figure size 432x288 with 1 Axes>"
      ]
     },
     "metadata": {},
     "output_type": "display_data"
    }
   ],
   "source": [
    "# tansyo\n",
    "def right_rate_tansyo(one_cut):\n",
    "    return one_cut[\"is_tansyo\"].sum()/len(one_cut)\n",
    "    \n",
    "removed.groupby(\"predict_0_prob_cut\").apply(right_rate_tansyo).plot()"
   ]
  },
  {
   "cell_type": "markdown",
   "metadata": {},
   "source": [
    "40%以上の確率ならあまり精度は変わらない？\n",
    "or 90% 前後なら高い"
   ]
  },
  {
   "cell_type": "code",
   "execution_count": 132,
   "metadata": {},
   "outputs": [
    {
     "data": {
      "text/plain": [
       "<matplotlib.axes._subplots.AxesSubplot at 0x112944b50>"
      ]
     },
     "execution_count": 132,
     "metadata": {},
     "output_type": "execute_result"
    },
    {
     "data": {
      "image/png": "[encoded data removed]",
      "text/plain": [
       "<Figure size 432x288 with 1 Axes>"
      ]
     },
     "metadata": {},
     "output_type": "display_data"
    }
   ],
   "source": [
    "# hukusyo\n",
    "def right_rate_hukusyo(one_cut):\n",
    "    return one_cut[\"is_hukusyo\"].sum()/len(one_cut)\n",
    "    \n",
    "removed.groupby(\"predict_0_prob_cut\").apply(right_rate_hukusyo).plot()"
   ]
  },
  {
   "cell_type": "markdown",
   "metadata": {},
   "source": [
    "## 回収率の計算"
   ]
  },
  {
   "cell_type": "markdown",
   "metadata": {},
   "source": [
    "### 単純に確率が高いものを買い続けた時"
   ]
  },
  {
   "cell_type": "code",
   "execution_count": 133,
   "metadata": {},
   "outputs": [],
   "source": [
    "def get_return_by_top(one_race):\n",
    "    tmp = one_race.reset_index()\n",
    "    return tmp.loc[tmp['predict_0_prob'].idxmax(),['tansyo_return','hukusyo_return','odds','date','predict_0_prob']]\n",
    "\n",
    "race_result = removed.groupby(\"race_id\").apply(get_return_by_top)\n",
    "race_result = race_result.sort_values(\"date\")\n",
    "race_result = race_result.set_index(\"date\")"
   ]
  },
  {
   "cell_type": "markdown",
   "metadata": {},
   "source": [
    "### 単勝"
   ]
  },
  {
   "cell_type": "code",
   "execution_count": 134,
   "metadata": {},
   "outputs": [
    {
     "name": "stdout",
     "output_type": "stream",
     "text": [
      "num:  124\n",
      "win:  22\n",
      "win_rate:  0.1774193548387097\n"
     ]
    },
    {
     "data": {
      "text/plain": [
       "<matplotlib.axes._subplots.AxesSubplot at 0x112779e90>"
      ]
     },
     "execution_count": 134,
     "metadata": {},
     "output_type": "execute_result"
    },
    {
     "data": {
      "image/png": "[encoded data removed]",
      "text/plain": [
       "<Figure size 864x432 with 1 Axes>"
      ]
     },
     "metadata": {},
     "output_type": "display_data"
    }
   ],
   "source": [
    "# 単純に買い続けたとき\n",
    "simple = race_result[\"tansyo_return\"].cumsum()\n",
    "\n",
    "num = race_result.shape[0]\n",
    "win = race_result[race_result[\"tansyo_return\"]>0].shape[0]\n",
    "win_rate = win/num\n",
    "print(\"num: \",num)\n",
    "print(\"win: \",win)\n",
    "print(\"win_rate: \",win_rate)\n",
    "\n",
    "simple.plot(figsize=(12, 6))"
   ]
  },
  {
   "cell_type": "code",
   "execution_count": 135,
   "metadata": {},
   "outputs": [
    {
     "name": "stdout",
     "output_type": "stream",
     "text": [
      "num:  111\n",
      "win:  20\n",
      "win_rate:  0.18018018018018017\n"
     ]
    },
    {
     "data": {
      "text/plain": [
       "<matplotlib.axes._subplots.AxesSubplot at 0x1129c9fd0>"
      ]
     },
     "execution_count": 135,
     "metadata": {},
     "output_type": "execute_result"
    },
    {
     "data": {
      "image/png": "[encoded data removed]",
      "text/plain": [
       "<Figure size 432x288 with 1 Axes>"
      ]
     },
     "metadata": {},
     "output_type": "display_data"
    }
   ],
   "source": [
    "# predict_0_prob　がある程度あるときだけ\n",
    "per = 30\n",
    "simple = race_result.loc[(race_result[\"predict_0_prob\"]>per), 'tansyo_return'].cumsum()\n",
    "\n",
    "num = race_result.loc[(race_result[\"predict_0_prob\"]>per), 'tansyo_return'].shape[0]\n",
    "win = race_result.loc[(race_result[\"predict_0_prob\"]>per), 'tansyo_return'][race_result[\"tansyo_return\"]>0].shape[0]\n",
    "win_rate = win/num\n",
    "print(\"num: \",num)\n",
    "print(\"win: \",win)\n",
    "print(\"win_rate: \",win_rate)\n",
    "\n",
    "simple.plot()"
   ]
  },
  {
   "cell_type": "markdown",
   "metadata": {},
   "source": [
    "### 複勝"
   ]
  },
  {
   "cell_type": "code",
   "execution_count": 136,
   "metadata": {},
   "outputs": [
    {
     "name": "stdout",
     "output_type": "stream",
     "text": [
      "num:  124\n",
      "win:  49\n",
      "win_rate:  0.3951612903225806\n"
     ]
    },
    {
     "data": {
      "text/plain": [
       "<matplotlib.axes._subplots.AxesSubplot at 0x112a36990>"
      ]
     },
     "execution_count": 136,
     "metadata": {},
     "output_type": "execute_result"
    },
    {
     "data": {
      "image/png": "[encoded data removed]",
      "text/plain": [
       "<Figure size 864x432 with 1 Axes>"
      ]
     },
     "metadata": {},
     "output_type": "display_data"
    }
   ],
   "source": [
    "# 単純に買い続けたとき\n",
    "simple = race_result[\"hukusyo_return\"].cumsum()\n",
    "num = race_result.shape[0]\n",
    "win = race_result[race_result[\"hukusyo_return\"]>0].shape[0]\n",
    "win_rate = win/num\n",
    "print(\"num: \",num)\n",
    "print(\"win: \",win)\n",
    "print(\"win_rate: \",win_rate)\n",
    "simple.plot(figsize=(12, 6))"
   ]
  },
  {
   "cell_type": "code",
   "execution_count": 137,
   "metadata": {},
   "outputs": [
    {
     "name": "stdout",
     "output_type": "stream",
     "text": [
      "num:  111\n",
      "win:  45\n",
      "win_rate:  0.40540540540540543\n"
     ]
    },
    {
     "data": {
      "text/plain": [
       "<matplotlib.axes._subplots.AxesSubplot at 0x112aaf650>"
      ]
     },
     "execution_count": 137,
     "metadata": {},
     "output_type": "execute_result"
    },
    {
     "data": {
      "image/png": "[encoded data removed]",
      "text/plain": [
       "<Figure size 432x288 with 1 Axes>"
      ]
     },
     "metadata": {},
     "output_type": "display_data"
    }
   ],
   "source": [
    "# 予測値を含める\n",
    "simple = race_result.loc[(race_result[\"predict_0_prob\"]>30), 'hukusyo_return'].cumsum()\n",
    "num = race_result.loc[(race_result[\"predict_0_prob\"]>per), 'hukusyo_return'].shape[0]\n",
    "win = race_result.loc[(race_result[\"predict_0_prob\"]>per), 'hukusyo_return'][race_result[\"hukusyo_return\"]>0].shape[0]\n",
    "win_rate = win/num\n",
    "print(\"num: \",num)\n",
    "print(\"win: \",win)\n",
    "print(\"win_rate: \",win_rate)\n",
    "simple.plot()"
   ]
  },
  {
   "cell_type": "code",
   "execution_count": null,
   "metadata": {},
   "outputs": [],
   "source": []
  },
  {
   "cell_type": "markdown",
   "metadata": {},
   "source": [
    "### 二番目予想との差が大きい時"
   ]
  },
  {
   "cell_type": "code",
   "execution_count": 138,
   "metadata": {},
   "outputs": [],
   "source": [
    "def get_return_by_top(one_race):\n",
    "    tmp = one_race.reset_index()\n",
    "    tmp = tmp.sort_values(\"predict_0_prob\")\n",
    "    tmp[\"diff_big\"] = tmp[\"predict_0_prob\"].iat[-1] - tmp[\"predict_0_prob\"].iat[-2]\n",
    "    tmp[\"is_diff_big\"] = (tmp[\"diff_big\"]>10)*1.\n",
    "    return tmp.loc[tmp['predict_0_prob'].idxmax(),['tansyo_return','hukusyo_return','odds','date','predict_0_prob',\"is_diff_big\"]]\n",
    "\n",
    "race_result = removed.groupby(\"race_id\").apply(get_return_by_top)\n",
    "race_result = race_result.sort_values(\"date\")\n",
    "race_result = race_result.set_index(\"date\")"
   ]
  },
  {
   "cell_type": "code",
   "execution_count": 139,
   "metadata": {},
   "outputs": [
    {
     "data": {
      "text/html": [
       "<div>\n",
       "<style scoped>\n",
       "    .dataframe tbody tr th:only-of-type {\n",
       "        vertical-align: middle;\n",
       "    }\n",
       "\n",
       "    .dataframe tbody tr th {\n",
       "        vertical-align: top;\n",
       "    }\n",
       "\n",
       "    .dataframe thead th {\n",
       "        text-align: right;\n",
       "    }\n",
       "</style>\n",
       "<table border=\"1\" class=\"dataframe\">\n",
       "  <thead>\n",
       "    <tr style=\"text-align: right;\">\n",
       "      <th></th>\n",
       "      <th>tansyo_return</th>\n",
       "      <th>hukusyo_return</th>\n",
       "      <th>odds</th>\n",
       "      <th>predict_0_prob</th>\n",
       "      <th>is_diff_big</th>\n",
       "    </tr>\n",
       "    <tr>\n",
       "      <th>date</th>\n",
       "      <th></th>\n",
       "      <th></th>\n",
       "      <th></th>\n",
       "      <th></th>\n",
       "      <th></th>\n",
       "    </tr>\n",
       "  </thead>\n",
       "  <tbody>\n",
       "    <tr>\n",
       "      <th>2019-01-26 13:30:00</th>\n",
       "      <td>540</td>\n",
       "      <td>120</td>\n",
       "      <td>6.4</td>\n",
       "      <td>28.576250</td>\n",
       "      <td>0.0</td>\n",
       "    </tr>\n",
       "    <tr>\n",
       "      <th>2019-01-26 14:01:00</th>\n",
       "      <td>-100</td>\n",
       "      <td>-100</td>\n",
       "      <td>12.6</td>\n",
       "      <td>44.468838</td>\n",
       "      <td>0.0</td>\n",
       "    </tr>\n",
       "    <tr>\n",
       "      <th>2019-01-26 14:35:00</th>\n",
       "      <td>-100</td>\n",
       "      <td>-100</td>\n",
       "      <td>3.6</td>\n",
       "      <td>41.130709</td>\n",
       "      <td>0.0</td>\n",
       "    </tr>\n",
       "  </tbody>\n",
       "</table>\n",
       "</div>"
      ],
      "text/plain": [
       "                     tansyo_return  hukusyo_return  odds  predict_0_prob  \\\n",
       "date                                                                       \n",
       "2019-01-26 13:30:00            540             120   6.4       28.576250   \n",
       "2019-01-26 14:01:00           -100            -100  12.6       44.468838   \n",
       "2019-01-26 14:35:00           -100            -100   3.6       41.130709   \n",
       "\n",
       "                     is_diff_big  \n",
       "date                              \n",
       "2019-01-26 13:30:00          0.0  \n",
       "2019-01-26 14:01:00          0.0  \n",
       "2019-01-26 14:35:00          0.0  "
      ]
     },
     "execution_count": 139,
     "metadata": {},
     "output_type": "execute_result"
    }
   ],
   "source": [
    "race_result.head(3)"
   ]
  },
  {
   "cell_type": "markdown",
   "metadata": {},
   "source": [
    "#### 単勝"
   ]
  },
  {
   "cell_type": "code",
   "execution_count": 140,
   "metadata": {},
   "outputs": [
    {
     "name": "stdout",
     "output_type": "stream",
     "text": [
      "num:  124\n",
      "win:  22\n",
      "win_rate:  0.1774193548387097\n"
     ]
    },
    {
     "data": {
      "text/plain": [
       "<matplotlib.axes._subplots.AxesSubplot at 0x112a87390>"
      ]
     },
     "execution_count": 140,
     "metadata": {},
     "output_type": "execute_result"
    },
    {
     "data": {
      "image/png": "[encoded data removed]",
      "text/plain": [
       "<Figure size 864x432 with 1 Axes>"
      ]
     },
     "metadata": {},
     "output_type": "display_data"
    }
   ],
   "source": [
    "# 単純に買い続けたとき\n",
    "simple = race_result[\"tansyo_return\"].cumsum()\n",
    "\n",
    "num = race_result.shape[0]\n",
    "win = race_result[race_result[\"tansyo_return\"]>0].shape[0]\n",
    "win_rate = win/num\n",
    "print(\"num: \",num)\n",
    "print(\"win: \",win)\n",
    "print(\"win_rate: \",win_rate)\n",
    "\n",
    "simple.plot(figsize=(12, 6))"
   ]
  },
  {
   "cell_type": "code",
   "execution_count": 141,
   "metadata": {},
   "outputs": [
    {
     "name": "stdout",
     "output_type": "stream",
     "text": [
      "num:  16\n",
      "win:  4\n",
      "win_rate:  0.25\n"
     ]
    },
    {
     "data": {
      "text/plain": [
       "<matplotlib.axes._subplots.AxesSubplot at 0x112ba12d0>"
      ]
     },
     "execution_count": 141,
     "metadata": {},
     "output_type": "execute_result"
    },
    {
     "data": {
      "image/png": "[encoded data removed]",
      "text/plain": [
       "<Figure size 432x288 with 1 Axes>"
      ]
     },
     "metadata": {},
     "output_type": "display_data"
    }
   ],
   "source": [
    "# 予測値を含める\n",
    "simple = race_result.loc[(race_result[\"is_diff_big\"]>=1.0), 'tansyo_return'].cumsum()\n",
    "num = race_result.loc[(race_result[\"is_diff_big\"]>=1.0), 'tansyo_return'].shape[0]\n",
    "win = race_result.loc[(race_result[\"is_diff_big\"]>=1.0), 'tansyo_return'][race_result[\"tansyo_return\"]>0].shape[0]\n",
    "win_rate = win/num\n",
    "print(\"num: \",num)\n",
    "print(\"win: \",win)\n",
    "print(\"win_rate: \",win_rate)\n",
    "simple.plot()"
   ]
  },
  {
   "cell_type": "markdown",
   "metadata": {},
   "source": [
    "### 複勝"
   ]
  },
  {
   "cell_type": "code",
   "execution_count": 142,
   "metadata": {},
   "outputs": [
    {
     "name": "stdout",
     "output_type": "stream",
     "text": [
      "num:  124\n",
      "win:  49\n",
      "win_rate:  0.3951612903225806\n"
     ]
    },
    {
     "data": {
      "text/plain": [
       "<matplotlib.axes._subplots.AxesSubplot at 0x112be8c50>"
      ]
     },
     "execution_count": 142,
     "metadata": {},
     "output_type": "execute_result"
    },
    {
     "data": {
      "image/png": "[encoded data removed]",
      "text/plain": [
       "<Figure size 864x432 with 1 Axes>"
      ]
     },
     "metadata": {},
     "output_type": "display_data"
    }
   ],
   "source": [
    "# 単純に買い続けたとき\n",
    "simple = race_result[\"hukusyo_return\"].cumsum()\n",
    "num = race_result.shape[0]\n",
    "win = race_result[race_result[\"hukusyo_return\"]>0].shape[0]\n",
    "win_rate = win/num\n",
    "print(\"num: \",num)\n",
    "print(\"win: \",win)\n",
    "print(\"win_rate: \",win_rate)\n",
    "simple.plot(figsize=(12, 6))"
   ]
  },
  {
   "cell_type": "code",
   "execution_count": 143,
   "metadata": {},
   "outputs": [
    {
     "name": "stdout",
     "output_type": "stream",
     "text": [
      "num:  16\n",
      "win:  7\n",
      "win_rate:  0.4375\n"
     ]
    },
    {
     "data": {
      "text/plain": [
       "<matplotlib.axes._subplots.AxesSubplot at 0x112c6f050>"
      ]
     },
     "execution_count": 143,
     "metadata": {},
     "output_type": "execute_result"
    },
    {
     "data": {
      "image/png": "[encoded data removed]",
      "text/plain": [
       "<Figure size 432x288 with 1 Axes>"
      ]
     },
     "metadata": {},
     "output_type": "display_data"
    }
   ],
   "source": [
    "# 予測値を含める\n",
    "simple = race_result.loc[(race_result[\"is_diff_big\"]>=1.0), 'hukusyo_return'].cumsum()\n",
    "num = race_result.loc[(race_result[\"is_diff_big\"]>=1.0), 'hukusyo_return'].shape[0]\n",
    "win = race_result.loc[(race_result[\"is_diff_big\"]>=1.0), 'hukusyo_return'][race_result[\"hukusyo_return\"]>0].shape[0]\n",
    "win_rate = win/num\n",
    "print(\"num: \",num)\n",
    "print(\"win: \",win)\n",
    "print(\"win_rate: \",win_rate)\n",
    "simple.plot()"
   ]
  },
  {
   "cell_type": "code",
   "execution_count": null,
   "metadata": {},
   "outputs": [],
   "source": []
  },
  {
   "cell_type": "code",
   "execution_count": null,
   "metadata": {},
   "outputs": [],
   "source": []
  },
  {
   "cell_type": "code",
   "execution_count": null,
   "metadata": {},
   "outputs": [],
   "source": []
  }
 ],
 "metadata": {
  "kernelspec": {
   "display_name": "Python 3",
   "language": "python",
   "name": "python3"
  },
  "language_info": {
   "codemirror_mode": {
    "name": "ipython",
    "version": 3
   },
   "file_extension": ".py",
   "mimetype": "text/x-python",
   "name": "python",
   "nbconvert_exporter": "python",
   "pygments_lexer": "ipython3",
   "version": "3.7.5"
  }
 },
 "nbformat": 4,
 "nbformat_minor": 2
}
